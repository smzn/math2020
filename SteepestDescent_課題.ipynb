{
  "cells": [
    {
      "metadata": {
        "collapsed": true
      },
      "cell_type": "markdown",
      "source": "次のような$(x,y)$の組があるとき、この関係を表す回帰直線$𝑦=𝛼_0+𝛼_1𝑥$を求めよ"
    },
    {
      "metadata": {
        "trusted": true
      },
      "cell_type": "code",
      "source": "import numpy as np\nimport matplotlib.pyplot as plt",
      "execution_count": 1,
      "outputs": []
    },
    {
      "metadata": {
        "trusted": true
      },
      "cell_type": "code",
      "source": "#データセットの定義\n\ndata = np.array([[2.8, 30],\n                 [2.9, 26],\n                 [3.0, 33],\n                 [3.1, 31],\n                 [3.2, 33],\n                 [3.2, 35],\n                 [3.2, 37],\n                 [3.3, 36],\n                 [3.4, 33]\n                ])",
      "execution_count": 2,
      "outputs": []
    },
    {
      "metadata": {
        "trusted": true
      },
      "cell_type": "code",
      "source": "a = np.array([0.0,0.0]) #αの初期値の設定\neta = 0.01 #学習率\nK = 25000 #繰り返し回数\nf_value = [] #目的関数値\nindex = [] #繰り返し回数",
      "execution_count": 17,
      "outputs": []
    },
    {
      "metadata": {
        "trusted": true
      },
      "cell_type": "code",
      "source": "for k in range(K):\n    f = 0.0\n    for i in range(len(data)):\n        f += (data[i][1] - a[0] - a[1] * data[i][0])**2\n    f /= 2\n    a_sum = np.array([0.0,0.0]) #第１成分a0更新の和、第２成分a1\n    #更新式の和の部分の計算\n    for i in range(len(data)):\n        a_sum[0] += (data[i][1] - a[0] - a[1] * data[i][0]) #a0用\n        a_sum[1] += (data[i][1] - a[0] - a[1] * data[i][0]) * data[i][0] #a1用\n    #αの更新\n    a[0] += eta * a_sum[0]\n    a[1] += eta * a_sum[1]\n    if(k > 10):\n        index.append(k)\n        f_value.append(f)\nprint(f)\nprint(a)\nplt.plot(index, f_value)",
      "execution_count": 18,
      "outputs": [
        {
          "output_type": "stream",
          "text": "23.47932439230046\n[-5.00281012 12.06496524]\n",
          "name": "stdout"
        },
        {
          "output_type": "execute_result",
          "execution_count": 18,
          "data": {
            "text/plain": "[<matplotlib.lines.Line2D at 0x7f785fb691d0>]"
          },
          "metadata": {}
        },
        {
          "output_type": "display_data",
          "data": {
            "image/png": "[encoded data removed]",
            "text/plain": "<Figure size 432x288 with 1 Axes>"
          },
          "metadata": {
            "needs_background": "light"
          }
        }
      ]
    },
    {
      "metadata": {
        "trusted": true
      },
      "cell_type": "code",
      "source": "#解析的に解く場合(最小二乗法を利用)\nimport LeastSquare_lib as mdl #クラスのインポート\np = 1\nllib = mdl.LeastSquare_lib(data, p) #オプジェクトの作成",
      "execution_count": 22,
      "outputs": []
    },
    {
      "metadata": {
        "trusted": true
      },
      "cell_type": "code",
      "source": "#正規方程式の作成と解\nleft = llib.getLeft()\nright = llib.getRight()\nvalue = llib.getSolve(left, right)\nprint(left)\nprint(right)\nprint(value)",
      "execution_count": 23,
      "outputs": [
        {
          "output_type": "stream",
          "text": "[[9.0, 28.099999999999998], [28.099999999999998, 88.03000000000002]]\n[294.0, 921.5]\n[-5.0112782  12.06766917]\n",
          "name": "stdout"
        }
      ]
    },
    {
      "metadata": {
        "trusted": true
      },
      "cell_type": "code",
      "source": "",
      "execution_count": null,
      "outputs": []
    }
  ],
  "metadata": {
    "kernelspec": {
      "name": "python36",
      "display_name": "Python 3.6",
      "language": "python"
    },
    "language_info": {
      "mimetype": "text/x-python",
      "nbconvert_exporter": "python",
      "name": "python",
      "pygments_lexer": "ipython3",
      "version": "3.6.6",
      "file_extension": ".py",
      "codemirror_mode": {
        "version": 3,
        "name": "ipython"
      }
    }
  },
  "nbformat": 4,
  "nbformat_minor": 2
}