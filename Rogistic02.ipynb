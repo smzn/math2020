{
  "cells": [
    {
      "metadata": {
        "trusted": true
      },
      "cell_type": "code",
      "source": "import numpy as np\nimport matplotlib.pyplot as plt",
      "execution_count": 1,
      "outputs": []
    },
    {
      "metadata": {
        "trusted": true
      },
      "cell_type": "code",
      "source": "#XORデータ (x1*x2を第４列目に追加)\ndata = np.array([[1, 0, 0, 0, 0],\n                 [1, 1, 0, 0, 1],\n                 [1, 0, 1, 0, 1],\n                 [1, 1, 1, 1, 0],\n                ])\n\nx = data[:,1:3] #2,3列目をxに代入\nt = data[:,4] #4列目をyに代入",
      "execution_count": 50,
      "outputs": []
    },
    {
      "metadata": {
        "trusted": true
      },
      "cell_type": "code",
      "source": "#グラフ表示\nplt.plot(x[t == 1, 0], x[t == 1, 1], 'o')\nplt.plot(x[t == 0, 0], x[t == 0, 1], '^')",
      "execution_count": 51,
      "outputs": [
        {
          "output_type": "execute_result",
          "execution_count": 51,
          "data": {
            "text/plain": "[<matplotlib.lines.Line2D at 0x7fab6186b2b0>]"
          },
          "metadata": {}
        },
        {
          "output_type": "display_data",
          "data": {
            "image/png": "[encoded data removed]",
            "text/plain": "<Figure size 432x288 with 1 Axes>"
          },
          "metadata": {
            "needs_background": "light"
          }
        }
      ]
    },
    {
      "metadata": {
        "trusted": true
      },
      "cell_type": "code",
      "source": "p_number = 4 #wの初期値の設定(w3を追加)\nw = np.ones(p_number)\n#w = np.array([1.0,1.0,1.0,1.0])\neta = 0.01 #学習率\nK = 100000 #繰り返し回数\nf_value = [] #目的関数値\nindex = [] #繰り返し回数",
      "execution_count": 61,
      "outputs": []
    },
    {
      "metadata": {
        "trusted": true
      },
      "cell_type": "code",
      "source": "#シグモイド関数\ndef sigmoid(w,x):\n    return 1 / (1 + np.exp(-np.dot(w,x)))",
      "execution_count": 53,
      "outputs": []
    },
    {
      "metadata": {
        "trusted": true
      },
      "cell_type": "code",
      "source": "for k in range(K):\n    #交差エントロピー誤差関数\n    f = 0.0\n    for i in range(len(data)):\n        f += data[i][p_number] * np.log(sigmoid(w,data[i][0:p_number])) + (1 - data[i][p_number] ) * np.log(1 - sigmoid(w,data[i][0:p_number]))\n    f *= -1\n    w_sum = np.zeros(p_number)\n    #w_sum = np.array([0.0,0.0,0.0,0.0]) #第１成分w0更新の和、第２成分w1, 第３成分w2、第４成分w3\n    #更新式の和の部分の計算\n    for i in range(len(data)):\n        for j in range(len(w)):\n            w_sum[j] += (sigmoid(w,data[i][0:p_number]) - data[i][p_number]) * data[i][j] \n    #wの更新\n    for j in range(len(w)):\n        w[j] -= eta * w_sum[j]\n    if(k > 0):\n        index.append(k)\n        f_value.append(f)\nprint(f)\nprint(w)\nplt.plot(index, f_value)",
      "execution_count": 62,
      "outputs": [
        {
          "output_type": "stream",
          "text": "0.02562421393022793\n[ -4.67966992   9.76844605   9.76844605 -20.35403748]\n",
          "name": "stdout"
        },
        {
          "output_type": "execute_result",
          "execution_count": 62,
          "data": {
            "text/plain": "[<matplotlib.lines.Line2D at 0x7fab608b1898>]"
          },
          "metadata": {}
        },
        {
          "output_type": "display_data",
          "data": {
            "image/png": "[encoded data removed]",
            "text/plain": "<Figure size 432x288 with 1 Axes>"
          },
          "metadata": {
            "needs_background": "light"
          }
        }
      ]
    },
    {
      "metadata": {
        "trusted": true
      },
      "cell_type": "code",
      "source": "p = np.arange(-0.2, 1.2, 0.01)\n#w[0]+w[1]*p+w[2]*q+w[3]*p*q=0\nq = -(w[0]+w[1]*p)/(w[2]+w[3]*p)\nplt.plot(p, q)\nplt.plot(x[t == 1, 0], x[t == 1, 1], 'o')\nplt.plot(x[t == 0, 0], x[t == 0, 1], '^')",
      "execution_count": 68,
      "outputs": [
        {
          "output_type": "execute_result",
          "execution_count": 68,
          "data": {
            "text/plain": "[<matplotlib.lines.Line2D at 0x7fab605b0630>]"
          },
          "metadata": {}
        },
        {
          "output_type": "display_data",
          "data": {
            "image/png": "[encoded data removed]",
            "text/plain": "<Figure size 432x288 with 1 Axes>"
          },
          "metadata": {
            "needs_background": "light"
          }
        }
      ]
    },
    {
      "metadata": {
        "trusted": true
      },
      "cell_type": "code",
      "source": "sigmoid(w,data[0][0:len(w)]) #(x1,x2)=(0,0)",
      "execution_count": 64,
      "outputs": [
        {
          "output_type": "execute_result",
          "execution_count": 64,
          "data": {
            "text/plain": "0.009196712632635419"
          },
          "metadata": {}
        }
      ]
    },
    {
      "metadata": {
        "trusted": true
      },
      "cell_type": "code",
      "source": "sigmoid(w,data[1][0:len(w)]) #(x1,x2)=(1,0)",
      "execution_count": 65,
      "outputs": [
        {
          "output_type": "execute_result",
          "execution_count": 65,
          "data": {
            "text/plain": "0.9938722200846981"
          },
          "metadata": {}
        }
      ]
    },
    {
      "metadata": {
        "trusted": true
      },
      "cell_type": "code",
      "source": "sigmoid(w,data[2][0:len(w)]) #(x1,x2)=(0,1)",
      "execution_count": 66,
      "outputs": [
        {
          "output_type": "execute_result",
          "execution_count": 66,
          "data": {
            "text/plain": "0.9938722200846981"
          },
          "metadata": {}
        }
      ]
    },
    {
      "metadata": {
        "trusted": true
      },
      "cell_type": "code",
      "source": "sigmoid(w,data[3][0:len(w)]) #(x1,x2)=(1,1)",
      "execution_count": 67,
      "outputs": [
        {
          "output_type": "execute_result",
          "execution_count": 67,
          "data": {
            "text/plain": "0.00408306752079942"
          },
          "metadata": {}
        }
      ]
    },
    {
      "metadata": {
        "trusted": true
      },
      "cell_type": "code",
      "source": "",
      "execution_count": null,
      "outputs": []
    }
  ],
  "metadata": {
    "kernelspec": {
      "name": "python36",
      "display_name": "Python 3.6",
      "language": "python"
    },
    "language_info": {
      "mimetype": "text/x-python",
      "nbconvert_exporter": "python",
      "name": "python",
      "pygments_lexer": "ipython3",
      "version": "3.6.6",
      "file_extension": ".py",
      "codemirror_mode": {
        "version": 3,
        "name": "ipython"
      }
    }
  },
  "nbformat": 4,
  "nbformat_minor": 2
}