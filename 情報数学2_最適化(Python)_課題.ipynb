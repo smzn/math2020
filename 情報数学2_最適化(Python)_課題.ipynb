{
  "cells": [
    {
      "metadata": {
        "collapsed": true
      },
      "cell_type": "markdown",
      "source": "## $P$を最大化する$x$,$y$の値とその時の$P$の値を求めなさい。"
    },
    {
      "metadata": {},
      "cell_type": "markdown",
      "source": "目的関数：最大化　$P=3𝑥+4𝑦$"
    },
    {
      "metadata": {},
      "cell_type": "markdown",
      "source": "制約条件  \n$ 8x+7y \\leq 50 $  \n$ 2x+3y \\leq 20 $  \n$ x+4y \\leq 25 $  \n$ x \\geq 0, y \\geq 0 $"
    },
    {
      "metadata": {
        "trusted": true
      },
      "cell_type": "code",
      "source": "!pip install PuLP",
      "execution_count": 1,
      "outputs": [
        {
          "output_type": "stream",
          "text": "Collecting PuLP\n\u001b[?25l  Downloading https://files.pythonhosted.org/packages/41/34/757c88c320f80ce602199603afe63aed1e0bc11180b9a9fb6018fb2ce7ef/PuLP-2.1-py3-none-any.whl (40.6MB)\n\u001b[K     |████████████████████████████████| 40.6MB 2.2kB/s ta 0:00:012     |█████████▏                      | 11.6MB 469kB/s eta 0:01:02     |███████████                     | 14.0MB 234kB/s eta 0:01:54     |████████████▏                   | 15.4MB 3.4MB/s eta 0:00:08     |████████████████▉               | 21.4MB 794kB/s eta 0:00:25��███▋          | 27.4MB 428kB/s eta 0:00:31       | 27.9MB 68kB/s eta 0:03:05█████████████████         | 29.1MB 996kB/s eta 0:00:12     |████████████████████████        | 30.5MB 1.3MB/s eta 0:00:08��▉       | 31.5MB 438kB/s eta 0:00:21████████      | 32.8MB 75kB/s eta 0:01:43�██████████▏     | 33.2MB 75kB/s eta 0:01:39█████████████████████████     | 34.3MB 1.6MB/s eta 0:00:04��████▍   | 35.9MB 1.3MB/s eta 0:00:04��   | 36.6MB 70kB/s eta 0:00:57��   | 36.8MB 70kB/s eta 0:00:54��███████████████▍  | 37.2MB 683kB/s eta 0:00:05��█████████████████████████▋  | 37.5MB 683kB/s eta 0:00:05ta 0:00:05�███  | 38.2MB 348kB/s eta 0:00:07     |██████████████████████████████▍ | 38.5MB 348kB/s eta 0:00:07��██████████████████▋ | 38.8MB 348kB/s eta 0:00:06��███████████████████████████ | 39.4MB 310kB/s eta 0:00:04███████████████████████████████▎| 39.7MB 310kB/s eta 0:00:03    |███████████████████████████████▊| 40.2MB 87kB/s eta 0:00:05    |████████████████████████████████| 40.4MB 87kB/s eta 0:00:02\n\u001b[?25hRequirement already satisfied: pyparsing>=2.0.1 in /home/nbuser/anaconda3_501/lib/python3.6/site-packages (from PuLP) (2.3.0)\nInstalling collected packages: PuLP\nSuccessfully installed PuLP-2.1\n\u001b[33mWARNING: You are using pip version 19.3.1; however, version 20.1.1 is available.\nYou should consider upgrading via the 'pip install --upgrade pip' command.\u001b[0m\n",
          "name": "stdout"
        }
      ]
    },
    {
      "metadata": {
        "trusted": true
      },
      "cell_type": "code",
      "source": "import pulp",
      "execution_count": 2,
      "outputs": []
    },
    {
      "metadata": {
        "trusted": true
      },
      "cell_type": "code",
      "source": "problem = pulp.LpProblem('P', pulp.LpMaximize)\n\n#変数を定義(変数名, 最小値, 最大値, 整数制約)\nx = pulp.LpVariable('x', 0, None)\ny = pulp.LpVariable('y', 0, None)\n\n#目的関数を定義\nproblem += 3*x + 4*y\n\n#制約条件を定義\nproblem += 8*x + 7*y <= 50\nproblem += 2*x + 3*y <= 20\nproblem += x + 4*y <= 25\n\n#確認\nprint(problem)",
      "execution_count": 3,
      "outputs": [
        {
          "output_type": "stream",
          "text": "P:\nMAXIMIZE\n3*x + 4*y + 0\nSUBJECT TO\n_C1: 8 x + 7 y <= 50\n\n_C2: 2 x + 3 y <= 20\n\n_C3: x + 4 y <= 25\n\nVARIABLES\nx Continuous\ny Continuous\n\n",
          "name": "stdout"
        }
      ]
    },
    {
      "metadata": {
        "trusted": true
      },
      "cell_type": "code",
      "source": "#問題を解く\nstatus = problem.solve()\nprint(pulp.LpStatus[status])\nprint(pulp.value(problem.objective))\nprint(x.value())\nprint(y.value())",
      "execution_count": 4,
      "outputs": [
        {
          "output_type": "stream",
          "text": "Optimal\n27.0\n1.0\n6.0\n",
          "name": "stdout"
        }
      ]
    },
    {
      "metadata": {},
      "cell_type": "markdown",
      "source": "よって、$x = 1.0, y = 6.0$のとき、最大値$P = 27.0$となる"
    },
    {
      "metadata": {
        "trusted": true
      },
      "cell_type": "code",
      "source": "",
      "execution_count": null,
      "outputs": []
    }
  ],
  "metadata": {
    "kernelspec": {
      "name": "python36",
      "display_name": "Python 3.6",
      "language": "python"
    },
    "language_info": {
      "mimetype": "text/x-python",
      "nbconvert_exporter": "python",
      "name": "python",
      "pygments_lexer": "ipython3",
      "version": "3.6.6",
      "file_extension": ".py",
      "codemirror_mode": {
        "version": 3,
        "name": "ipython"
      }
    }
  },
  "nbformat": 4,
  "nbformat_minor": 2
}