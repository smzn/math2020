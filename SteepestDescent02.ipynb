{
  "cells": [
    {
      "metadata": {
        "collapsed": true
      },
      "cell_type": "markdown",
      "source": "次のような$(x,y)$の組があるとき、この関係を表す回帰直線$𝑦=𝛼_0+𝛼_1𝑥$を求めよ"
    },
    {
      "metadata": {
        "trusted": true
      },
      "cell_type": "code",
      "source": "import numpy as np\nimport matplotlib.pyplot as plt",
      "execution_count": 19,
      "outputs": []
    },
    {
      "metadata": {
        "trusted": true
      },
      "cell_type": "code",
      "source": "#データセットの定義\n\ndata = np.array([[90, 270],\n                 [110, 330],\n                 [140, 410],\n                 [170, 520],\n                 [190, 560],\n                 [225, 670],\n                 [250, 750],\n                 [300, 910],\n                 [350, 1080],\n                 [400, 1270],\n                 [450, 1450],\n                 [490, 1590],\n                 [550, 1810],\n                 [650, 2180]\n                ])",
      "execution_count": 18,
      "outputs": []
    },
    {
      "metadata": {
        "trusted": true
      },
      "cell_type": "code",
      "source": "a = np.array([0.0,0.0]) #αの初期値の設定\neta = 0.000001 #学習率\nK = 1000000 #繰り返し回数\nf_value = [] #目的関数値\nindex = [] #繰り返し回数",
      "execution_count": 23,
      "outputs": []
    },
    {
      "metadata": {
        "trusted": true
      },
      "cell_type": "code",
      "source": "for k in range(K):\n    f = 0.0\n    for i in range(len(data)):\n        f += (data[i][1] - a[0] - a[1] * data[i][0])**2\n    f /= 2\n    a_sum = np.array([0.0,0.0]) #第１成分a0更新の和、第２成分a1\n    #更新式の和の部分の計算\n    for i in range(len(data)):\n        a_sum[0] += (data[i][1] - a[0] - a[1] * data[i][0]) #a0用\n        a_sum[1] += (data[i][1] - a[0] - a[1] * data[i][0]) * data[i][0] #a1用\n    #αの更新\n    a[0] += eta * a_sum[0]\n    a[1] += eta * a_sum[1]\n    if(k > 1000):\n        index.append(k)\n        f_value.append(f)\nprint(f)\nprint(a)\nplt.plot(index, f_value)",
      "execution_count": 24,
      "outputs": [
        {
          "output_type": "stream",
          "text": "4485.167433287548\n[-72.28710093   3.39567593]\n",
          "name": "stdout"
        },
        {
          "output_type": "execute_result",
          "execution_count": 24,
          "data": {
            "text/plain": "[<matplotlib.lines.Line2D at 0x7f2f9cd925f8>]"
          },
          "metadata": {}
        },
        {
          "output_type": "display_data",
          "data": {
            "image/png": "[encoded data removed]",
            "text/plain": "<Figure size 432x288 with 1 Axes>"
          },
          "metadata": {
            "needs_background": "light"
          }
        }
      ]
    },
    {
      "metadata": {
        "trusted": true
      },
      "cell_type": "code",
      "source": "",
      "execution_count": null,
      "outputs": []
    }
  ],
  "metadata": {
    "kernelspec": {
      "name": "python36",
      "display_name": "Python 3.6",
      "language": "python"
    },
    "language_info": {
      "mimetype": "text/x-python",
      "nbconvert_exporter": "python",
      "name": "python",
      "pygments_lexer": "ipython3",
      "version": "3.6.6",
      "file_extension": ".py",
      "codemirror_mode": {
        "version": 3,
        "name": "ipython"
      }
    }
  },
  "nbformat": 4,
  "nbformat_minor": 2
}