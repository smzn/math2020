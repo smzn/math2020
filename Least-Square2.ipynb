{
  "cells": [
    {
      "metadata": {
        "collapsed": true
      },
      "cell_type": "markdown",
      "source": "# 情報数学2 回帰分析2  \n## 最小二乗法の一般化"
    },
    {
      "metadata": {},
      "cell_type": "markdown",
      "source": "次の$(x,y)$の組について、$p=2$ (2次関数) $𝑦=𝛼_0+𝛼_1 𝑥^1+𝛼_2 𝑥^2$ にあてはめなさい。また残差平方和RSSと決定係数$R^2$を求めなさい。"
    },
    {
      "metadata": {},
      "cell_type": "markdown",
      "source": "| | | |\n|-|-|-|\n|x|-0.98|1.00|2.02|3.03|4.00|\n|y|2.44 |-1.51|-0.47|2.54|7.52|"
    },
    {
      "metadata": {
        "trusted": true
      },
      "cell_type": "code",
      "source": "import numpy as np\nimport pandas as pd\nimport matplotlib.pyplot as plt",
      "execution_count": 1,
      "outputs": []
    },
    {
      "metadata": {
        "trusted": true
      },
      "cell_type": "code",
      "source": "data = np.array([[-0.98, 2.44],\n                 [1.00,-1.51],\n                 [2.02,-0.47],\n                 [3.03,2.54],\n                 [4.00,7.52]\n                ])\ndf = pd.DataFrame(data)\ndf.columns = ['x','y']\ndf.describe()",
      "execution_count": 2,
      "outputs": [
        {
          "output_type": "execute_result",
          "execution_count": 2,
          "data": {
            "text/html": "<div>\n<style scoped>\n    .dataframe tbody tr th:only-of-type {\n        vertical-align: middle;\n    }\n\n    .dataframe tbody tr th {\n        vertical-align: top;\n    }\n\n    .dataframe thead th {\n        text-align: right;\n    }\n</style>\n<table border=\"1\" class=\"dataframe\">\n  <thead>\n    <tr style=\"text-align: right;\">\n      <th></th>\n      <th>x</th>\n      <th>y</th>\n    </tr>\n  </thead>\n  <tbody>\n    <tr>\n      <th>count</th>\n      <td>5.000000</td>\n      <td>5.0000</td>\n    </tr>\n    <tr>\n      <th>mean</th>\n      <td>1.814000</td>\n      <td>2.1040</td>\n    </tr>\n    <tr>\n      <th>std</th>\n      <td>1.921505</td>\n      <td>3.5115</td>\n    </tr>\n    <tr>\n      <th>min</th>\n      <td>-0.980000</td>\n      <td>-1.5100</td>\n    </tr>\n    <tr>\n      <th>25%</th>\n      <td>1.000000</td>\n      <td>-0.4700</td>\n    </tr>\n    <tr>\n      <th>50%</th>\n      <td>2.020000</td>\n      <td>2.4400</td>\n    </tr>\n    <tr>\n      <th>75%</th>\n      <td>3.030000</td>\n      <td>2.5400</td>\n    </tr>\n    <tr>\n      <th>max</th>\n      <td>4.000000</td>\n      <td>7.5200</td>\n    </tr>\n  </tbody>\n</table>\n</div>",
            "text/plain": "              x       y\ncount  5.000000  5.0000\nmean   1.814000  2.1040\nstd    1.921505  3.5115\nmin   -0.980000 -1.5100\n25%    1.000000 -0.4700\n50%    2.020000  2.4400\n75%    3.030000  2.5400\nmax    4.000000  7.5200"
          },
          "metadata": {}
        }
      ]
    },
    {
      "metadata": {
        "trusted": true
      },
      "cell_type": "code",
      "source": "plt.scatter(data[:,0], data[:,1])\nplt.grid()",
      "execution_count": 3,
      "outputs": [
        {
          "output_type": "display_data",
          "data": {
            "image/png": "[encoded data removed]",
            "text/plain": "<Figure size 432x288 with 1 Axes>"
          },
          "metadata": {
            "needs_background": "light"
          }
        }
      ]
    },
    {
      "metadata": {
        "trusted": true
      },
      "cell_type": "code",
      "source": "#正規方程式の要素を求める\n#変数の初期化\nleft = [[0 for i in range(3)] for i in range(3)] #要素数3の2次元配列を作成\nright = [0 for i in range(3)] #要素数3の1次元配列を作成\n\n#左辺係数行列を求める\nfor i in range(len(left)): #係数行列行数\n    for j in range(len(left)): #係数行列列数\n        for k in data[:,0]: #利用データ(x)\n            left[i][j] += k**(i+j)\nprint(left)\n\n#右辺を求める\nfor i in range(len(right)): #係数行列行数\n     for j in df.itertuples(): #利用データ(x,y)   \n        right[i] += j[1]**i * j[2] #データフレームの要素番号は1から\nprint(right)",
      "execution_count": 4,
      "outputs": [
        {
          "output_type": "stream",
          "text": "[[5.0, 9.07, 31.2217], [9.07, 31.2217, 100.11934299999999], [31.2217, 100.11934299999999, 358.86095713]]\n[10.52, 32.925599999999996, 142.555074]\n",
          "name": "stdout"
        }
      ]
    },
    {
      "metadata": {},
      "cell_type": "markdown",
      "source": "$\\left(\n\\begin{matrix} \n5.0 & 9.07 & 31.2217 \\\\ \n9.07 & 31.2217 & 100.119\\\\\n31.2217 & 100.119 & 358.861\n\\end{matrix} \n\\right)$"
    },
    {
      "metadata": {},
      "cell_type": "markdown",
      "source": "$\\left(\n\\begin{matrix} \n10.52\\\\ 32.9256\\\\ 142.5551\n\\end{matrix} \n\\right)$"
    },
    {
      "metadata": {
        "trusted": true
      },
      "cell_type": "code",
      "source": "from numpy.linalg import solve\nvalue = solve(left, right)\nprint(value)",
      "execution_count": 5,
      "outputs": [
        {
          "output_type": "stream",
          "text": "[-0.50551541 -2.02615941  1.00650646]\n",
          "name": "stdout"
        }
      ]
    },
    {
      "metadata": {},
      "cell_type": "markdown",
      "source": "$\\left(\n\\begin{matrix} \n-0.5055\\\\ -2.0262\\\\  1.0065\n\\end{matrix} \n\\right)$"
    },
    {
      "metadata": {},
      "cell_type": "markdown",
      "source": "$y(x) = -0.5055 -2.0262x + 1.0065x^2$"
    },
    {
      "metadata": {
        "trusted": true
      },
      "cell_type": "code",
      "source": "#回帰曲線を描画\nplt.scatter(data[:,0],data[:,1])\nplt.grid()\nx = np.arange(-1.5, 4.5, 0.1)\ny = value[0] + value[1] * x + value[2] * x**2 \nplt.plot(x, y)",
      "execution_count": 6,
      "outputs": [
        {
          "output_type": "execute_result",
          "execution_count": 6,
          "data": {
            "text/plain": "[<matplotlib.lines.Line2D at 0x7ff68ddd3da0>]"
          },
          "metadata": {}
        },
        {
          "output_type": "display_data",
          "data": {
            "image/png": "[encoded data removed]",
            "text/plain": "<Figure size 432x288 with 1 Axes>"
          },
          "metadata": {
            "needs_background": "light"
          }
        }
      ]
    },
    {
      "metadata": {
        "trusted": true
      },
      "cell_type": "code",
      "source": "r2 = 0 #決定係数\nrss = 0 #残差平方和\nsum = 0 #偏差平方和\n#RSS(残差平方和)を求める\nfor i, j in zip(data[:, 0], data[:,1]):\n    rss += (j - value[0] - value[1] * i - value[2] * i**2)**2\nprint(rss)\n\n#偏差平方和を求める\nfor i in data[:,1]:\n    sum += (i - np.mean(data[:,1]))**2\nprint(sum)\n\n#決定係数を求める\nr2 = 1 - rss / sum\nprint(r2)",
      "execution_count": 7,
      "outputs": [
        {
          "output_type": "stream",
          "text": "0.004532790295275297\n49.32252\n0.9999080989719245\n",
          "name": "stdout"
        }
      ]
    },
    {
      "metadata": {
        "trusted": true
      },
      "cell_type": "markdown",
      "source": "RSS = 0.004532790295275297  \n$R^2$ = 0.9999080989719245"
    },
    {
      "metadata": {
        "trusted": true
      },
      "cell_type": "markdown",
      "source": "次の$(x,y)$の組について、$p=3$ (3次関数) $𝑦=𝛼_0+𝛼_1 𝑥^1+𝛼_2 𝑥^2+𝛼_3 𝑥^3$にあてはめなさい。また残差平方和RSSと決定係数を求めなさい。"
    },
    {
      "metadata": {
        "trusted": true
      },
      "cell_type": "code",
      "source": "#正規方程式の要素を求める\n#変数の初期化\nleft3 = [[0 for i in range(4)] for i in range(4)] #要素数4の2次元配列を作成\nright3 = [0 for i in range(4)] #要素数4の2次元配列を作成\n\n#左辺係数行列を求める\nfor i in range(len(left3)): #係数行列行数\n    for j in range(len(left3)): #係数行列列数\n        for k in data[:,0]: #利用データ(x)\n            left3[i][j] += k**(i+j)\nprint(left3)\n\n#右辺を求める\nfor i in range(len(right3)): #係数行列行数\n     for j in df.itertuples(): #利用データ(x,y)   \n        right3[i] += j[1]**i * j[2] #データフレームの要素番号は1から\nprint(right3)",
      "execution_count": 8,
      "outputs": [
        {
          "output_type": "stream",
          "text": "[[5.0, 9.07, 31.2217, 100.11934299999999], [9.07, 31.2217, 100.11934299999999, 358.86095713], [31.2217, 100.11934299999999, 358.86095713, 1313.1238429807], [100.11934299999999, 358.86095713, 1313.1238429807, 4939.6713218074565]]\n[10.52, 32.925599999999996, 142.555074, 544.25760234]\n",
          "name": "stdout"
        }
      ]
    },
    {
      "metadata": {
        "trusted": true
      },
      "cell_type": "code",
      "source": "from numpy.linalg import solve\nvalue3 = solve(left3, right3)\nprint(value3)",
      "execution_count": 9,
      "outputs": [
        {
          "output_type": "stream",
          "text": "[-0.45795035 -2.01308811  0.96936625  0.00802241]\n",
          "name": "stdout"
        }
      ]
    },
    {
      "metadata": {},
      "cell_type": "markdown",
      "source": "$f_3(x) = -0.45795035 -2.01308811 x + 0.96936625 x^2 + 0.00802241 x^3$"
    },
    {
      "metadata": {
        "trusted": true
      },
      "cell_type": "code",
      "source": "#回帰曲線を描画\nplt.scatter(data[:,0],data[:,1])\nplt.grid()\nx = np.arange(-1.5, 4.5, 0.1)\ny3 = value3[0] + value3[1] * x + value3[2] * x**2 +value3[3] * x ** 3\nplt.plot(x,y, label = 'p=2') #p=2の時\nplt.plot(x, y3, label = 'p=3') #p=3の時\nplt.legend()",
      "execution_count": 10,
      "outputs": [
        {
          "output_type": "execute_result",
          "execution_count": 10,
          "data": {
            "text/plain": "<matplotlib.legend.Legend at 0x7ff68dddd1d0>"
          },
          "metadata": {}
        },
        {
          "output_type": "display_data",
          "data": {
            "image/png": "[encoded data removed]",
            "text/plain": "<Figure size 432x288 with 1 Axes>"
          },
          "metadata": {
            "needs_background": "light"
          }
        }
      ]
    },
    {
      "metadata": {
        "trusted": true
      },
      "cell_type": "code",
      "source": "r23 = 0 #決定係数\nrss3 = 0 #残差平方和\nsum3 = 0 #偏差平方和\n#RSS(残差平方和)を求める\nfor i, j in zip(data[:, 0], data[:,1]):\n    rss3 += (j - value3[0] - value3[1] * i - value3[2] * i**2 - value3[3] * i**3 )**2\nprint(rss3)\n\n#偏差平方和を求める\nfor i in data[:,1]:\n    sum3 += (i - np.mean(data[:,1]))**2\nprint(sum3)\n\n#決定係数を求める\nr23 = 1 - rss3 / sum3\nprint(r23)",
      "execution_count": 11,
      "outputs": [
        {
          "output_type": "stream",
          "text": "0.0020350857799719636\n49.32252\n0.9999587392172993\n",
          "name": "stdout"
        }
      ]
    },
    {
      "metadata": {},
      "cell_type": "markdown",
      "source": "$RSS = 0.0020350857799719636$  \n$R^2 = 0.9999587392172993$"
    },
    {
      "metadata": {
        "trusted": true
      },
      "cell_type": "code",
      "source": "",
      "execution_count": null,
      "outputs": []
    }
  ],
  "metadata": {
    "kernelspec": {
      "name": "python36",
      "display_name": "Python 3.6",
      "language": "python"
    },
    "language_info": {
      "mimetype": "text/x-python",
      "nbconvert_exporter": "python",
      "name": "python",
      "pygments_lexer": "ipython3",
      "version": "3.6.6",
      "file_extension": ".py",
      "codemirror_mode": {
        "version": 3,
        "name": "ipython"
      }
    }
  },
  "nbformat": 4,
  "nbformat_minor": 2
}