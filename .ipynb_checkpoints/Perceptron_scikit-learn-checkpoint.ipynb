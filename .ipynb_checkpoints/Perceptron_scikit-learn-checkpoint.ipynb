{
  "cells": [
    {
      "metadata": {
        "trusted": true
      },
      "cell_type": "code",
      "source": "import numpy as np\nimport matplotlib.pyplot as plt",
      "execution_count": 1,
      "outputs": []
    },
    {
      "metadata": {
        "trusted": true
      },
      "cell_type": "code",
      "source": "#データセットの定義 (1列目:x0, 2列目:x1, 3列目:x2, 4列目:t)\n#ANDデータ\ndata = np.array([[1, 0, 0, -1],\n                 [1, 1, 0, -1],\n                 [1, 0, 1, -1],\n                 [1, 1, 1, 1],\n                ])\n\nx = data[:,1:3] #2,3列目をxに代入\nt = data[:,3] #4列目をyに代入",
      "execution_count": 2,
      "outputs": []
    },
    {
      "metadata": {
        "trusted": true
      },
      "cell_type": "code",
      "source": "#ORデータ\ndata = np.array([[1, 0, 0, -1],\n                 [1, 1, 0, 1],\n                 [1, 0, 1, 1],\n                 [1, 1, 1, 1],\n                ])\n\nx = data[:,1:3] #2,3列目をxに代入\nt = data[:,3] #4列目をyに代入",
      "execution_count": 12,
      "outputs": []
    },
    {
      "metadata": {
        "trusted": true
      },
      "cell_type": "code",
      "source": "#XORデータ\ndata = np.array([[1, 0, 0, -1],\n                 [1, 1, 0, 1],\n                 [1, 0, 1, 1],\n                 [1, 1, 1, -1],\n                ])\n\nx = data[:,1:3] #2,3列目をxに代入\nt = data[:,3] #4列目をyに代入",
      "execution_count": 4,
      "outputs": []
    },
    {
      "metadata": {
        "trusted": true
      },
      "cell_type": "code",
      "source": "#グラフ表示\nplt.plot(x[t == 1, 0], x[t == 1, 1], 'o')\nplt.plot(x[t == -1, 0], x[t == -1, 1], '^')",
      "execution_count": 13,
      "outputs": [
        {
          "output_type": "execute_result",
          "execution_count": 13,
          "data": {
            "text/plain": "[<matplotlib.lines.Line2D at 0x7fc4aa3b3be0>]"
          },
          "metadata": {}
        },
        {
          "output_type": "display_data",
          "data": {
            "image/png": "[encoded data removed]",
            "text/plain": "<Figure size 432x288 with 1 Axes>"
          },
          "metadata": {
            "needs_background": "light"
          }
        }
      ]
    },
    {
      "metadata": {
        "trusted": true
      },
      "cell_type": "code",
      "source": "from sklearn.linear_model import Perceptron",
      "execution_count": 6,
      "outputs": []
    },
    {
      "metadata": {
        "trusted": true
      },
      "cell_type": "code",
      "source": "#最大繰り返し回数(max_iter)、学習率(eta0)でパーセプトロン作成\nppn = Perceptron(max_iter = 10000,eta0 = 0.1)\nppn.fit(data[:,1:3].reshape(-1,2), data[:,3])",
      "execution_count": 14,
      "outputs": [
        {
          "output_type": "stream",
          "text": "/home/nbuser/anaconda3_501/lib/python3.6/site-packages/sklearn/linear_model/stochastic_gradient.py:183: FutureWarning: max_iter and tol parameters have been added in Perceptron in 0.19. If max_iter is set but tol is left unset, the default value for tol in 0.19 and 0.20 will be None (which is equivalent to -infinity, so it has no effect) but will change in 0.21 to 1e-3. Specify tol to silence this warning.\n  FutureWarning)\n",
          "name": "stderr"
        },
        {
          "output_type": "execute_result",
          "execution_count": 14,
          "data": {
            "text/plain": "Perceptron(alpha=0.0001, class_weight=None, early_stopping=False, eta0=0.1,\n      fit_intercept=True, max_iter=10000, n_iter=None, n_iter_no_change=5,\n      n_jobs=None, penalty=None, random_state=0, shuffle=True, tol=None,\n      validation_fraction=0.1, verbose=0, warm_start=False)"
          },
          "metadata": {}
        }
      ]
    },
    {
      "metadata": {
        "trusted": true
      },
      "cell_type": "code",
      "source": "#学習結果確認\nprint(ppn.coef_) #ウエイト\nprint(ppn.intercept_) #切片(w0)\nprint(ppn.n_iter_) #繰り返し回数\nprint(ppn.classes_) #分類されたクラス",
      "execution_count": 15,
      "outputs": [
        {
          "output_type": "stream",
          "text": "[[0.2 0.2]]\n[-0.1]\n10000\n[-1  1]\n",
          "name": "stdout"
        }
      ]
    },
    {
      "metadata": {
        "trusted": true
      },
      "cell_type": "code",
      "source": "#結果の確認\ny_pred = ppn.predict(data[:,1:3].reshape(-1,2))\nprint(y_pred) #各データの分類結果\nprint('Missclassified samples:%d'%(data[:,3] != y_pred).sum())",
      "execution_count": 16,
      "outputs": [
        {
          "output_type": "stream",
          "text": "[-1  1  1  1]\nMissclassified samples:0\n",
          "name": "stdout"
        }
      ]
    },
    {
      "metadata": {
        "trusted": true
      },
      "cell_type": "code",
      "source": "from sklearn.metrics import accuracy_score\n#正解率の表示\nprint('Accuracy:%.2f'%accuracy_score(data[:,3],y_pred))",
      "execution_count": 17,
      "outputs": [
        {
          "output_type": "stream",
          "text": "Accuracy:1.00\n",
          "name": "stdout"
        }
      ]
    },
    {
      "metadata": {
        "trusted": true
      },
      "cell_type": "code",
      "source": "p = np.arange(-0.2, 1.2, 0.01)\nq = -ppn.intercept_[0]/ppn.coef_[0][1] - ppn.coef_[0][0]/ppn.coef_[0][1]*p\nplt.plot(p, q)\nplt.plot(x[t == 1, 0], x[t == 1, 1], 'o')\nplt.plot(x[t == -1, 0], x[t == -1, 1], '^')",
      "execution_count": 18,
      "outputs": [
        {
          "output_type": "execute_result",
          "execution_count": 18,
          "data": {
            "text/plain": "[<matplotlib.lines.Line2D at 0x7fc4a9f6fef0>]"
          },
          "metadata": {}
        },
        {
          "output_type": "display_data",
          "data": {
            "image/png": "[encoded data removed]",
            "text/plain": "<Figure size 432x288 with 1 Axes>"
          },
          "metadata": {
            "needs_background": "light"
          }
        }
      ]
    },
    {
      "metadata": {
        "trusted": true
      },
      "cell_type": "markdown",
      "source": "関数仕様  \nhttps://scikit-learn.org/stable/modules/generated/sklearn.linear_model.Perceptron.html"
    },
    {
      "metadata": {
        "trusted": true
      },
      "cell_type": "code",
      "source": "",
      "execution_count": null,
      "outputs": []
    }
  ],
  "metadata": {
    "kernelspec": {
      "name": "python36",
      "display_name": "Python 3.6",
      "language": "python"
    },
    "language_info": {
      "mimetype": "text/x-python",
      "nbconvert_exporter": "python",
      "name": "python",
      "pygments_lexer": "ipython3",
      "version": "3.6.6",
      "file_extension": ".py",
      "codemirror_mode": {
        "version": 3,
        "name": "ipython"
      }
    }
  },
  "nbformat": 4,
  "nbformat_minor": 2
}