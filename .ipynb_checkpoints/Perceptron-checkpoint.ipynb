{
  "cells": [
    {
      "metadata": {
        "trusted": true
      },
      "cell_type": "code",
      "source": "import numpy as np\nimport matplotlib.pyplot as plt",
      "execution_count": 1,
      "outputs": []
    },
    {
      "metadata": {
        "trusted": true
      },
      "cell_type": "code",
      "source": "#データセットの定義 (1列目:x0, 2列目:x1, 3列目:x2, 4列目:t)\n#ANDデータ\ndata = np.array([[1, 0, 0, -1],\n                 [1, 1, 0, -1],\n                 [1, 0, 1, -1],\n                 [1, 1, 1, 1],\n                ])\n\nx = data[:,1:3] #2,3列目をxに代入\nt = data[:,3] #4列目をyに代入",
      "execution_count": 29,
      "outputs": []
    },
    {
      "metadata": {
        "trusted": true
      },
      "cell_type": "code",
      "source": "#ORデータ\ndata = np.array([[1, 0, 0, -1],\n                 [1, 1, 0, 1],\n                 [1, 0, 1, 1],\n                 [1, 1, 1, 1],\n                ])\n\nx = data[:,1:3] #2,3列目をxに代入\nt = data[:,3] #4列目をyに代入",
      "execution_count": 10,
      "outputs": []
    },
    {
      "metadata": {
        "trusted": true
      },
      "cell_type": "code",
      "source": "#XORデータ\ndata = np.array([[1, 0, 0, -1],\n                 [1, 1, 0, 1],\n                 [1, 0, 1, 1],\n                 [1, 1, 1, -1],\n                ])\n\nx = data[:,1:3] #2,3列目をxに代入\nt = data[:,3] #4列目をyに代入",
      "execution_count": 13,
      "outputs": []
    },
    {
      "metadata": {
        "trusted": true
      },
      "cell_type": "code",
      "source": "#グラフ表示\nplt.plot(x[t == 1, 0], x[t == 1, 1], 'o')\nplt.plot(x[t == -1, 0], x[t == -1, 1], '^')",
      "execution_count": 30,
      "outputs": [
        {
          "output_type": "execute_result",
          "execution_count": 30,
          "data": {
            "text/plain": "[<matplotlib.lines.Line2D at 0x7ff4de56c6a0>]"
          },
          "metadata": {}
        },
        {
          "output_type": "display_data",
          "data": {
            "image/png": "[encoded data removed]",
            "text/plain": "<Figure size 432x288 with 1 Axes>"
          },
          "metadata": {
            "needs_background": "light"
          }
        }
      ]
    },
    {
      "metadata": {
        "trusted": true
      },
      "cell_type": "code",
      "source": "w = np.ones(3) #wの初期化(今回は全て1.0)\nloop = 20 #学習回数\neta = 0.1 #学習率\n\n#学習開始\nfor i in range(loop):\n    for value_x, value_t in zip(data[:,0:3], data[:,3]):\n        if(-value_t * np.dot(w, value_x) > 0): #更新が必要\n            #print(np.dot(w, value_x))\n            w += eta * value_t * value_x\nprint(w)",
      "execution_count": 35,
      "outputs": [
        {
          "output_type": "stream",
          "text": "[-0.6  0.4  0.4]\n",
          "name": "stdout"
        }
      ]
    },
    {
      "metadata": {
        "trusted": true
      },
      "cell_type": "code",
      "source": "p = np.arange(-0.2, 1.2, 0.01)\nq = -w[0]/w[2] - w[1]/w[2]*p\nplt.plot(p, q)\nplt.plot(x[t == 1, 0], x[t == 1, 1], 'o')\nplt.plot(x[t == -1, 0], x[t == -1, 1], '^')",
      "execution_count": 36,
      "outputs": [
        {
          "output_type": "execute_result",
          "execution_count": 36,
          "data": {
            "text/plain": "[<matplotlib.lines.Line2D at 0x7ff4de186e10>]"
          },
          "metadata": {}
        },
        {
          "output_type": "display_data",
          "data": {
            "image/png": "[encoded data removed]",
            "text/plain": "<Figure size 432x288 with 1 Axes>"
          },
          "metadata": {
            "needs_background": "light"
          }
        }
      ]
    },
    {
      "metadata": {
        "trusted": true
      },
      "cell_type": "code",
      "source": "",
      "execution_count": null,
      "outputs": []
    }
  ],
  "metadata": {
    "kernelspec": {
      "name": "python36",
      "display_name": "Python 3.6",
      "language": "python"
    },
    "language_info": {
      "mimetype": "text/x-python",
      "nbconvert_exporter": "python",
      "name": "python",
      "pygments_lexer": "ipython3",
      "version": "3.6.6",
      "file_extension": ".py",
      "codemirror_mode": {
        "version": 3,
        "name": "ipython"
      }
    }
  },
  "nbformat": 4,
  "nbformat_minor": 2
}