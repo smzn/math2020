{
  "cells": [
    {
      "metadata": {
        "collapsed": true
      },
      "cell_type": "markdown",
      "source": "## 問1 シグモイド関数 $f(x) = \\frac{1}{1+e^{-x}}$のとき、$f(1),f'(1)$をそれぞれ求めなさい。"
    },
    {
      "metadata": {
        "trusted": true
      },
      "cell_type": "code",
      "source": "import sympy as sp\n\nx = sp.symbols('x')\nf = 1 / (1 + sp.exp(-x))\nsp.init_printing()\nf",
      "execution_count": 1,
      "outputs": [
        {
          "output_type": "execute_result",
          "execution_count": 1,
          "data": {
            "image/png": "[encoded data removed]",
            "text/latex": "$$\\frac{1}{1 + e^{- x}}$$",
            "text/plain": "   1   \n───────\n     -x\n1 + ℯ  "
          },
          "metadata": {}
        }
      ]
    },
    {
      "metadata": {
        "trusted": true
      },
      "cell_type": "code",
      "source": "#x = 1を代入\nf1 = f.subs(x, 1)\nf1",
      "execution_count": 2,
      "outputs": [
        {
          "output_type": "execute_result",
          "execution_count": 2,
          "data": {
            "image/png": "[encoded data removed]",
            "text/latex": "$$\\frac{1}{e^{-1} + 1}$$",
            "text/plain": "   1   \n───────\n -1    \nℯ   + 1"
          },
          "metadata": {}
        }
      ]
    },
    {
      "metadata": {
        "trusted": true
      },
      "cell_type": "code",
      "source": "f1 = float(f1)\nf1",
      "execution_count": 3,
      "outputs": [
        {
          "output_type": "execute_result",
          "execution_count": 3,
          "data": {
            "image/png": "[encoded data removed]",
            "text/latex": "$$0.7310585786300049$$",
            "text/plain": "0.7310585786300049"
          },
          "metadata": {}
        }
      ]
    },
    {
      "metadata": {
        "trusted": true
      },
      "cell_type": "code",
      "source": "#f'(x)を求める\ndf = sp.diff(f, x, 1)\ndf",
      "execution_count": 4,
      "outputs": [
        {
          "output_type": "execute_result",
          "execution_count": 4,
          "data": {
            "image/png": "[encoded data removed]",
            "text/latex": "$$\\frac{e^{- x}}{\\left(1 + e^{- x}\\right)^{2}}$$",
            "text/plain": "    -x    \n   ℯ      \n──────────\n         2\n⎛     -x⎞ \n⎝1 + ℯ  ⎠ "
          },
          "metadata": {}
        }
      ]
    },
    {
      "metadata": {
        "trusted": true
      },
      "cell_type": "code",
      "source": "#f'(1)を求める\ndf1 = df.subs(x, 1)\ndf1",
      "execution_count": 5,
      "outputs": [
        {
          "output_type": "execute_result",
          "execution_count": 5,
          "data": {
            "image/png": "[encoded data removed]",
            "text/latex": "$$\\frac{1}{e \\left(e^{-1} + 1\\right)^{2}}$$",
            "text/plain": "    -1    \n   ℯ      \n──────────\n         2\n⎛ -1    ⎞ \n⎝ℯ   + 1⎠ "
          },
          "metadata": {}
        }
      ]
    },
    {
      "metadata": {
        "trusted": true
      },
      "cell_type": "code",
      "source": "df1 = float(df1)\ndf1",
      "execution_count": 6,
      "outputs": [
        {
          "output_type": "execute_result",
          "execution_count": 6,
          "data": {
            "image/png": "[encoded data removed]",
            "text/latex": "$$0.19661193324148185$$",
            "text/plain": "0.19661193324148185"
          },
          "metadata": {}
        }
      ]
    },
    {
      "metadata": {},
      "cell_type": "markdown",
      "source": "## 問２ $𝑦=𝑒^𝑥, 𝑦=𝑙𝑜𝑔𝑥, 𝑦=𝑥$ をグラフで描画して、 $𝑦=𝑒^𝑥$  と $𝑦=𝑙𝑜𝑔𝑥$ が $𝑦=𝑥$ 対象であることを確認しなさい。",
      "attachments": {}
    },
    {
      "metadata": {
        "trusted": true
      },
      "cell_type": "code",
      "source": "import numpy as np\nimport matplotlib.pyplot as plt \n\nx2 = np.arange(-3, 2, 0.01)\nx3 = np.arange(np.exp(-3), np.exp(2), 0.01)\nx4 = np.arange(-3, 6, 0.01)\nex = np.exp(x2)\nlogx = np.log(x3)\n\nplt.plot(x4, x4)\nplt.plot(x2, ex)\nplt.plot(x3,logx)\nplt.grid()\nplt.show()",
      "execution_count": 8,
      "outputs": [
        {
          "output_type": "display_data",
          "data": {
            "image/png": "[encoded data removed]",
            "text/plain": "<Figure size 432x288 with 1 Axes>"
          },
          "metadata": {
            "needs_background": "light"
          }
        }
      ]
    },
    {
      "metadata": {},
      "cell_type": "markdown",
      "source": "グラフでも明らかですが、$y = e^x$の逆関数を求めることで、$y = x$対象と言えます。  \n$log y = log e^x$  \n$log y = x$  \n$x$と$y$を入れ替えて  \n$y = logx$となり、$y = x$とわかる"
    },
    {
      "metadata": {
        "trusted": true
      },
      "cell_type": "code",
      "source": "",
      "execution_count": null,
      "outputs": []
    }
  ],
  "metadata": {
    "kernelspec": {
      "name": "python36",
      "display_name": "Python 3.6",
      "language": "python"
    },
    "language_info": {
      "mimetype": "text/x-python",
      "nbconvert_exporter": "python",
      "name": "python",
      "pygments_lexer": "ipython3",
      "version": "3.6.6",
      "file_extension": ".py",
      "codemirror_mode": {
        "version": 3,
        "name": "ipython"
      }
    }
  },
  "nbformat": 4,
  "nbformat_minor": 2
}