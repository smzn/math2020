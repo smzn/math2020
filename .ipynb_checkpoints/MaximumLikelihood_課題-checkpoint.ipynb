{
  "cells": [
    {
      "metadata": {
        "trusted": true
      },
      "cell_type": "code",
      "source": "import numpy as np\nimport matplotlib.pyplot as plt \nimport sympy as sp",
      "execution_count": 1,
      "outputs": []
    },
    {
      "metadata": {
        "trusted": true
      },
      "cell_type": "code",
      "source": "#問１\npr = np.arange(0, 1, 0.01)\npy1 = pr**2 * (1-pr)**28\nplt.plot(pr, py1)",
      "execution_count": 2,
      "outputs": [
        {
          "output_type": "execute_result",
          "execution_count": 2,
          "data": {
            "text/plain": "[<matplotlib.lines.Line2D at 0x7f7127a6fb70>]"
          },
          "metadata": {}
        },
        {
          "output_type": "display_data",
          "data": {
            "image/png": "[encoded data removed]",
            "text/plain": "<Figure size 432x288 with 1 Axes>"
          },
          "metadata": {
            "needs_background": "light"
          }
        }
      ]
    },
    {
      "metadata": {
        "trusted": true
      },
      "cell_type": "code",
      "source": "#尤度関数(係数部は除く)\np1 = sp.symbols('p1')\nlp1 = p1**2 * (1-p1)**28\nsp.init_printing()\nlp1",
      "execution_count": 3,
      "outputs": [
        {
          "output_type": "execute_result",
          "execution_count": 3,
          "data": {
            "image/png": "[encoded data removed]",
            "text/latex": "$$p_{1}^{2} \\left(- p_{1} + 1\\right)^{28}$$",
            "text/plain": "  2          28\np₁ ⋅(-p₁ + 1)  "
          },
          "metadata": {}
        }
      ]
    },
    {
      "metadata": {
        "trusted": true
      },
      "cell_type": "code",
      "source": "#尤度関数を微分\ndlp1 = sp.diff(lp1, p1, 1)\ndlp1 = sp.factor(dlp1)\ndlp1",
      "execution_count": 4,
      "outputs": [
        {
          "output_type": "execute_result",
          "execution_count": 4,
          "data": {
            "image/png": "[encoded data removed]",
            "text/latex": "$$2 p_{1} \\left(p_{1} - 1\\right)^{27} \\left(15 p_{1} - 1\\right)$$",
            "text/plain": "             27            \n2⋅p₁⋅(p₁ - 1)  ⋅(15⋅p₁ - 1)"
          },
          "metadata": {}
        }
      ]
    },
    {
      "metadata": {
        "trusted": true
      },
      "cell_type": "code",
      "source": "solve1 = sp.solve(dlp1, p1)\nsolve1",
      "execution_count": 5,
      "outputs": [
        {
          "output_type": "execute_result",
          "execution_count": 5,
          "data": {
            "image/png": "[encoded data removed]",
            "text/latex": "$$\\left [ 0, \\quad \\frac{1}{15}, \\quad 1\\right ]$$",
            "text/plain": "[0, 1/15, 1]"
          },
          "metadata": {}
        }
      ]
    },
    {
      "metadata": {
        "trusted": true
      },
      "cell_type": "code",
      "source": "#問２\npy2 = pr**12 * (1-pr)**48\nplt.plot(pr, py2)",
      "execution_count": 6,
      "outputs": [
        {
          "output_type": "execute_result",
          "execution_count": 6,
          "data": {
            "text/plain": "[<matplotlib.lines.Line2D at 0x7f7127286ac8>]"
          },
          "metadata": {}
        },
        {
          "output_type": "display_data",
          "data": {
            "image/png": "[encoded data removed]",
            "text/plain": "<Figure size 432x288 with 1 Axes>"
          },
          "metadata": {
            "needs_background": "light"
          }
        }
      ]
    },
    {
      "metadata": {
        "trusted": true
      },
      "cell_type": "code",
      "source": "#尤度関数(係数部は除く)\np2 = sp.symbols('p2')\nlp2 = p2**12 * (1-p2)**48\nsp.init_printing()\nlp2",
      "execution_count": 7,
      "outputs": [
        {
          "output_type": "execute_result",
          "execution_count": 7,
          "data": {
            "image/png": "[encoded data removed]",
            "text/latex": "$$p_{2}^{12} \\left(- p_{2} + 1\\right)^{48}$$",
            "text/plain": "  12          48\np₂  ⋅(-p₂ + 1)  "
          },
          "metadata": {}
        }
      ]
    },
    {
      "metadata": {
        "trusted": true
      },
      "cell_type": "code",
      "source": "#尤度関数を微分\ndlp2 = sp.diff(lp2, p2, 1)\ndlp2 = sp.factor(dlp2)\ndlp2",
      "execution_count": 8,
      "outputs": [
        {
          "output_type": "execute_result",
          "execution_count": 8,
          "data": {
            "image/png": "[encoded data removed]",
            "text/latex": "$$12 p_{2}^{11} \\left(p_{2} - 1\\right)^{47} \\left(5 p_{2} - 1\\right)$$",
            "text/plain": "     11         47           \n12⋅p₂  ⋅(p₂ - 1)  ⋅(5⋅p₂ - 1)"
          },
          "metadata": {}
        }
      ]
    },
    {
      "metadata": {
        "trusted": true
      },
      "cell_type": "code",
      "source": "solve2 = sp.solve(dlp2, p2)\nsolve2",
      "execution_count": 9,
      "outputs": [
        {
          "output_type": "execute_result",
          "execution_count": 9,
          "data": {
            "image/png": "[encoded data removed]",
            "text/latex": "$$\\left [ 0, \\quad \\frac{1}{5}, \\quad 1\\right ]$$",
            "text/plain": "[0, 1/5, 1]"
          },
          "metadata": {}
        }
      ]
    },
    {
      "metadata": {
        "trusted": true
      },
      "cell_type": "code",
      "source": "",
      "execution_count": null,
      "outputs": []
    }
  ],
  "metadata": {
    "kernelspec": {
      "name": "python36",
      "display_name": "Python 3.6",
      "language": "python"
    },
    "language_info": {
      "mimetype": "text/x-python",
      "nbconvert_exporter": "python",
      "name": "python",
      "pygments_lexer": "ipython3",
      "version": "3.6.6",
      "file_extension": ".py",
      "codemirror_mode": {
        "version": 3,
        "name": "ipython"
      }
    }
  },
  "nbformat": 4,
  "nbformat_minor": 2
}