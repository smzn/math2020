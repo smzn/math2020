{
  "cells": [
    {
      "metadata": {
        "trusted": true
      },
      "cell_type": "code",
      "source": "import numpy as np\nimport pandas as pd\nimport matplotlib.pyplot as plt",
      "execution_count": 1,
      "outputs": []
    },
    {
      "metadata": {
        "trusted": true
      },
      "cell_type": "code",
      "source": "#データセットの定義\ndata = np.array([[90, 270],\n                 [110, 330],\n                 [140, 410],\n                 [170, 520],\n                 [190, 560],\n                 [225, 670],\n                 [250, 750],\n                 [300, 910],\n                 [350, 1080],\n                 [400, 1270],\n                 [450, 1450],\n                 [490, 1590],\n                 [550, 1810],\n                 [650, 2180]\n                ])\ndata",
      "execution_count": 2,
      "outputs": [
        {
          "output_type": "execute_result",
          "execution_count": 2,
          "data": {
            "text/plain": "array([[  90,  270],\n       [ 110,  330],\n       [ 140,  410],\n       [ 170,  520],\n       [ 190,  560],\n       [ 225,  670],\n       [ 250,  750],\n       [ 300,  910],\n       [ 350, 1080],\n       [ 400, 1270],\n       [ 450, 1450],\n       [ 490, 1590],\n       [ 550, 1810],\n       [ 650, 2180]])"
          },
          "metadata": {}
        }
      ]
    },
    {
      "metadata": {
        "trusted": true
      },
      "cell_type": "code",
      "source": "#numpyからpandsのデータフレームへ変換\ndf = pd.DataFrame(data) \ndf.columns = ['x', 'y'] #列名を定義\ndf.describe() #統計情報を表示",
      "execution_count": 3,
      "outputs": [
        {
          "output_type": "execute_result",
          "execution_count": 3,
          "data": {
            "text/html": "<div>\n<style scoped>\n    .dataframe tbody tr th:only-of-type {\n        vertical-align: middle;\n    }\n\n    .dataframe tbody tr th {\n        vertical-align: top;\n    }\n\n    .dataframe thead th {\n        text-align: right;\n    }\n</style>\n<table border=\"1\" class=\"dataframe\">\n  <thead>\n    <tr style=\"text-align: right;\">\n      <th></th>\n      <th>x</th>\n      <th>y</th>\n    </tr>\n  </thead>\n  <tbody>\n    <tr>\n      <th>count</th>\n      <td>14.000000</td>\n      <td>14.000000</td>\n    </tr>\n    <tr>\n      <th>mean</th>\n      <td>311.785714</td>\n      <td>985.714286</td>\n    </tr>\n    <tr>\n      <th>std</th>\n      <td>174.770257</td>\n      <td>595.427633</td>\n    </tr>\n    <tr>\n      <th>min</th>\n      <td>90.000000</td>\n      <td>270.000000</td>\n    </tr>\n    <tr>\n      <th>25%</th>\n      <td>175.000000</td>\n      <td>530.000000</td>\n    </tr>\n    <tr>\n      <th>50%</th>\n      <td>275.000000</td>\n      <td>830.000000</td>\n    </tr>\n    <tr>\n      <th>75%</th>\n      <td>437.500000</td>\n      <td>1405.000000</td>\n    </tr>\n    <tr>\n      <th>max</th>\n      <td>650.000000</td>\n      <td>2180.000000</td>\n    </tr>\n  </tbody>\n</table>\n</div>",
            "text/plain": "                x            y\ncount   14.000000    14.000000\nmean   311.785714   985.714286\nstd    174.770257   595.427633\nmin     90.000000   270.000000\n25%    175.000000   530.000000\n50%    275.000000   830.000000\n75%    437.500000  1405.000000\nmax    650.000000  2180.000000"
          },
          "metadata": {}
        }
      ]
    },
    {
      "metadata": {
        "trusted": true
      },
      "cell_type": "code",
      "source": "plt.scatter(data[:,0],data[:,1])\nplt.grid()",
      "execution_count": 4,
      "outputs": [
        {
          "output_type": "display_data",
          "data": {
            "image/png": "[encoded data removed]",
            "text/plain": "<Figure size 432x288 with 1 Axes>"
          },
          "metadata": {
            "needs_background": "light"
          }
        }
      ]
    },
    {
      "metadata": {
        "trusted": true
      },
      "cell_type": "code",
      "source": "#正規方程式の要素を求める\n#変数の初期化\nleft_11 = 0\nleft_12 = 0\nleft_21 = 0\nleft_22 = 0\nright_11 = 0\nright_21 = 0",
      "execution_count": 5,
      "outputs": []
    },
    {
      "metadata": {
        "trusted": true
      },
      "cell_type": "code",
      "source": "#左辺11要素\nfor i in data[:,0]:\n    left_11 += i ** 2\n#左辺12要素\nfor i in data[:,0]:\n    left_12 += i\n#左辺21要素\nfor i in data[:,0]:\n    left_21 += i\n#左辺22要素\nfor i in data[:,0]:\n    left_22 += 1\nprint(left_11)\nprint(left_12)\nprint(left_21)\nprint(left_22)",
      "execution_count": 6,
      "outputs": [
        {
          "output_type": "stream",
          "text": "1758025\n4365\n4365\n14\n",
          "name": "stdout"
        }
      ]
    },
    {
      "metadata": {
        "trusted": true
      },
      "cell_type": "code",
      "source": "#右辺11要素\nfor i, j in zip(data[:, 0], data[:,1]):\n    right_11 += i * j\n#右辺21要素\nfor i in data[:,1]:\n    right_21 += i\nprint(right_11)\nprint(right_21)",
      "execution_count": 7,
      "outputs": [
        {
          "output_type": "stream",
          "text": "5654150\n13800\n",
          "name": "stdout"
        }
      ]
    },
    {
      "metadata": {
        "trusted": true
      },
      "cell_type": "code",
      "source": "from numpy.linalg import solve\nleft = [\n    [left_11, left_12],\n    [left_21, left_22]\n]\nright = [right_11, right_21]\nvalue = solve(left, right)\nprint(value)",
      "execution_count": 8,
      "outputs": [
        {
          "output_type": "stream",
          "text": "[  3.40361118 -75.48305714]\n",
          "name": "stdout"
        }
      ]
    },
    {
      "metadata": {
        "trusted": true
      },
      "cell_type": "code",
      "source": "#回帰直線を描画\nplt.scatter(data[:,0],data[:,1])\nplt.grid()\nx = np.arange(50, 700, 1)\ny = value[0] * x + value[1]\nplt.plot(x, y)",
      "execution_count": 9,
      "outputs": [
        {
          "output_type": "execute_result",
          "execution_count": 9,
          "data": {
            "text/plain": "[<matplotlib.lines.Line2D at 0x7f3e48fb0d30>]"
          },
          "metadata": {}
        },
        {
          "output_type": "display_data",
          "data": {
            "image/png": "[encoded data removed]",
            "text/plain": "<Figure size 432x288 with 1 Axes>"
          },
          "metadata": {
            "needs_background": "light"
          }
        }
      ]
    },
    {
      "metadata": {
        "trusted": true
      },
      "cell_type": "code",
      "source": "r2 = 0 #決定係数\nrss = 0 #残差平方和\nsum = 0 #偏差平方和\n#RSS(残差平方和)を求める\nfor i, j in zip(data[:, 0], data[:,1]):\n    rss += (j - value[0] * i - value[1])**2\nprint(rss)\n\n#偏差平方和を求める\nfor i in data[:,1]:\n    sum += (i - np.mean(data[:,1]))**2\nprint(sum)\n\n#決定係数を求める\nr2 = 1 - rss / sum\nprint(r2)",
      "execution_count": 10,
      "outputs": [
        {
          "output_type": "stream",
          "text": "328008.78332744085\n4608942.857142857\n0.9288321002246538\n",
          "name": "stdout"
        }
      ]
    },
    {
      "metadata": {
        "trusted": true
      },
      "cell_type": "code",
      "source": "",
      "execution_count": null,
      "outputs": []
    }
  ],
  "metadata": {
    "kernelspec": {
      "name": "python36",
      "display_name": "Python 3.6",
      "language": "python"
    },
    "language_info": {
      "mimetype": "text/x-python",
      "nbconvert_exporter": "python",
      "name": "python",
      "pygments_lexer": "ipython3",
      "version": "3.6.6",
      "file_extension": ".py",
      "codemirror_mode": {
        "version": 3,
        "name": "ipython"
      }
    }
  },
  "nbformat": 4,
  "nbformat_minor": 2
}