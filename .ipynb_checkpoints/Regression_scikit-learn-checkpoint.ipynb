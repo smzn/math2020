{
  "cells": [
    {
      "metadata": {
        "trusted": true
      },
      "cell_type": "code",
      "source": "import numpy as np\nimport pandas as pd\nimport matplotlib.pyplot as plt\nfrom sklearn.linear_model import LinearRegression\nfrom sklearn.preprocessing import PolynomialFeatures",
      "execution_count": 1,
      "outputs": []
    },
    {
      "metadata": {
        "trusted": true
      },
      "cell_type": "code",
      "source": "data = np.array([[-0.98, 2.44],\n                 [1.00,-1.51],\n                 [2.02,-0.47],\n                 [3.03,2.54],\n                 [4.00,7.52]\n                ])\ndf = pd.DataFrame(data)\ndf.columns = ['x','y']\ndf.describe()",
      "execution_count": 2,
      "outputs": [
        {
          "output_type": "execute_result",
          "execution_count": 2,
          "data": {
            "text/html": "<div>\n<style scoped>\n    .dataframe tbody tr th:only-of-type {\n        vertical-align: middle;\n    }\n\n    .dataframe tbody tr th {\n        vertical-align: top;\n    }\n\n    .dataframe thead th {\n        text-align: right;\n    }\n</style>\n<table border=\"1\" class=\"dataframe\">\n  <thead>\n    <tr style=\"text-align: right;\">\n      <th></th>\n      <th>x</th>\n      <th>y</th>\n    </tr>\n  </thead>\n  <tbody>\n    <tr>\n      <th>count</th>\n      <td>5.000000</td>\n      <td>5.0000</td>\n    </tr>\n    <tr>\n      <th>mean</th>\n      <td>1.814000</td>\n      <td>2.1040</td>\n    </tr>\n    <tr>\n      <th>std</th>\n      <td>1.921505</td>\n      <td>3.5115</td>\n    </tr>\n    <tr>\n      <th>min</th>\n      <td>-0.980000</td>\n      <td>-1.5100</td>\n    </tr>\n    <tr>\n      <th>25%</th>\n      <td>1.000000</td>\n      <td>-0.4700</td>\n    </tr>\n    <tr>\n      <th>50%</th>\n      <td>2.020000</td>\n      <td>2.4400</td>\n    </tr>\n    <tr>\n      <th>75%</th>\n      <td>3.030000</td>\n      <td>2.5400</td>\n    </tr>\n    <tr>\n      <th>max</th>\n      <td>4.000000</td>\n      <td>7.5200</td>\n    </tr>\n  </tbody>\n</table>\n</div>",
            "text/plain": "              x       y\ncount  5.000000  5.0000\nmean   1.814000  2.1040\nstd    1.921505  3.5115\nmin   -0.980000 -1.5100\n25%    1.000000 -0.4700\n50%    2.020000  2.4400\n75%    3.030000  2.5400\nmax    4.000000  7.5200"
          },
          "metadata": {}
        }
      ]
    },
    {
      "metadata": {
        "trusted": true
      },
      "cell_type": "code",
      "source": "plt.scatter(data[:,0], data[:,1])\nplt.grid()",
      "execution_count": 3,
      "outputs": [
        {
          "output_type": "display_data",
          "data": {
            "image/png": "[encoded data removed]",
            "text/plain": "<Figure size 432x288 with 1 Axes>"
          },
          "metadata": {
            "needs_background": "light"
          }
        }
      ]
    },
    {
      "metadata": {
        "trusted": true
      },
      "cell_type": "code",
      "source": "#多項式回帰を実施\ndegnumber = 2\npolynomial_features = PolynomialFeatures(degree = degnumber)\nx_poly = polynomial_features.fit_transform(data[:,0].reshape(-1,1)) #指定した次数まで累乗する\nreg = LinearRegression()\nreg.fit(x_poly, data[:,1])\nprint(reg.coef_) #係数\nprint(reg.intercept_) #定数項(切片) \nprint(reg.score(x_poly, data[:,1])) #決定係数",
      "execution_count": 5,
      "outputs": [
        {
          "output_type": "stream",
          "text": "[ 0.         -2.02615941  1.00650646]\n-0.5055154115264906\n0.9999080989719245\n",
          "name": "stdout"
        }
      ]
    },
    {
      "metadata": {
        "trusted": true
      },
      "cell_type": "code",
      "source": "#グラフ描画\nplt.scatter(data[:,0],data[:,1])\nplt.grid()\nx = np.arange(np.min(data[:,0]) - 0.5, np.max(data[:,0]) + 0.5, 0.1) #xの最小値と最大値の0.5余裕をとる\ny = reg.predict(polynomial_features.fit_transform(x.reshape(-1,1))) \nplt.plot(x, y)",
      "execution_count": null,
      "outputs": []
    },
    {
      "metadata": {
        "trusted": true
      },
      "cell_type": "markdown",
      "source": "関数仕様  \nhttps://scikit-learn.org/stable/modules/generated/sklearn.preprocessing.PolynomialFeatures.html"
    },
    {
      "metadata": {
        "trusted": true
      },
      "cell_type": "code",
      "source": "",
      "execution_count": null,
      "outputs": []
    }
  ],
  "metadata": {
    "kernelspec": {
      "name": "python36",
      "display_name": "Python 3.6",
      "language": "python"
    },
    "language_info": {
      "mimetype": "text/x-python",
      "nbconvert_exporter": "python",
      "name": "python",
      "pygments_lexer": "ipython3",
      "version": "3.6.6",
      "file_extension": ".py",
      "codemirror_mode": {
        "version": 3,
        "name": "ipython"
      }
    }
  },
  "nbformat": 4,
  "nbformat_minor": 2
}