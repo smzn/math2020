{
  "cells": [
    {
      "metadata": {
        "trusted": true
      },
      "cell_type": "code",
      "source": "import numpy as np\nimport LeastSquare_lib as mdl",
      "execution_count": 1,
      "outputs": []
    },
    {
      "metadata": {
        "trusted": true
      },
      "cell_type": "code",
      "source": "#入力データの設定\ndata = np.array([[-0.98, 2.44],\n                 [1.00,-1.51],\n                 [2.02,-0.47],\n                 [3.03,2.54],\n                 [4.00,7.52]\n                ])\np = 1",
      "execution_count": 2,
      "outputs": []
    },
    {
      "metadata": {
        "trusted": true
      },
      "cell_type": "code",
      "source": "#オプジェクトの作成\nllib = mdl.LeastSquare_lib(data, p)",
      "execution_count": 3,
      "outputs": []
    },
    {
      "metadata": {
        "trusted": true
      },
      "cell_type": "code",
      "source": "#基本統計量の表示\nprint(llib.getDescribe())",
      "execution_count": 4,
      "outputs": [
        {
          "output_type": "stream",
          "text": "              x       y\ncount  5.000000  5.0000\nmean   1.814000  2.1040\nstd    1.921505  3.5115\nmin   -0.980000 -1.5100\n25%    1.000000 -0.4700\n50%    2.020000  2.4400\n75%    3.030000  2.5400\nmax    4.000000  7.5200\n",
          "name": "stdout"
        }
      ]
    },
    {
      "metadata": {
        "trusted": true
      },
      "cell_type": "code",
      "source": "#正規方程式の作成と解\nleft = llib.getLeft()\nright = llib.getRight()\nvalue = llib.getSolve(left, right)\nprint(left)\nprint(right)\nprint(value)",
      "execution_count": 5,
      "outputs": [
        {
          "output_type": "stream",
          "text": "[[5.0, 9.07, 31.2217, 100.11934299999999, 358.86095713], [9.07, 31.2217, 100.11934299999999, 358.86095713, 1313.1238429807], [31.2217, 100.11934299999999, 358.86095713, 1313.1238429807, 4939.6713218074565], [100.11934299999999, 358.86095713, 1313.1238429807, 4939.6713218074565, 18866.12521459448], [358.86095713, 1313.1238429807, 4939.6713218074565, 18866.12521459448, 72919.6849252892]]\n[10.52, 32.925599999999996, 142.555074, 544.25760234, 2132.1291051726]\n[-0.57978199 -1.9570532   1.07776003 -0.06104475  0.01011992]\n",
          "name": "stdout"
        }
      ]
    },
    {
      "metadata": {
        "trusted": true
      },
      "cell_type": "code",
      "source": "#グラフ描画\nllib.getGraph(value)",
      "execution_count": 6,
      "outputs": [
        {
          "output_type": "display_data",
          "data": {
            "image/png": "[encoded data removed]",
            "text/plain": "<Figure size 432x288 with 1 Axes>"
          },
          "metadata": {
            "needs_background": "light"
          }
        }
      ]
    },
    {
      "metadata": {
        "trusted": true
      },
      "cell_type": "code",
      "source": "#精度の確認\nrss = llib.getRSS(value)\nprint(rss[0]) #rss\nprint(rss[1]) #決定係数",
      "execution_count": 7,
      "outputs": [
        {
          "output_type": "stream",
          "text": "4.720351371996887e-26\n1.0\n",
          "name": "stdout"
        }
      ]
    },
    {
      "metadata": {
        "trusted": true
      },
      "cell_type": "code",
      "source": "",
      "execution_count": null,
      "outputs": []
    }
  ],
  "metadata": {
    "kernelspec": {
      "name": "python36",
      "display_name": "Python 3.6",
      "language": "python"
    },
    "language_info": {
      "mimetype": "text/x-python",
      "nbconvert_exporter": "python",
      "name": "python",
      "pygments_lexer": "ipython3",
      "version": "3.6.6",
      "file_extension": ".py",
      "codemirror_mode": {
        "version": 3,
        "name": "ipython"
      }
    }
  },
  "nbformat": 4,
  "nbformat_minor": 2
}