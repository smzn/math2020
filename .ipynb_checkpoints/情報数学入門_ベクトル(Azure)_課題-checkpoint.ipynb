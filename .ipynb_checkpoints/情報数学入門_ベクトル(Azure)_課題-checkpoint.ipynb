{
  "cells": [
    {
      "metadata": {
        "collapsed": true
      },
      "cell_type": "markdown",
      "source": "# 情報数学入門 ベクトル(Azure)課題"
    },
    {
      "metadata": {},
      "cell_type": "markdown",
      "source": "## 問1 $\n  a = \\left(\n    \\begin{array}{c}\n      1 \\\\\n      2 \\\\\n      3\n    \\end{array}\n  \\right)\n,\n  b = \\left(\n    \\begin{array}{c}\n      4 \\\\\n      5 \\\\\n      6\n    \\end{array}\n  \\right)\n$ のとき、内積 $ab$と$cos \\theta$を求めよ。"
    },
    {
      "metadata": {
        "trusted": true
      },
      "cell_type": "code",
      "source": "import numpy as np\na = np.array([1, 2, 3]) #横ベクトルで定義\nb = np.array([4, 5, 6]) #横ベクトルで定義\ndot_ab = np.dot(a, b) #aベクトルとbベクトルの内積\nprint(dot_ab)\na_nrm = np.linalg.norm(a) #aベクトルの大きさ\nb_nrm = np.linalg.norm(b) #bベクトルの大きさ\nprint(a_nrm)\nprint(b_nrm)\ncos_ab = dot_ab / (a_nrm * b_nrm) #aベクトルとbベクトルのなす角\nprint(cos_ab)",
      "execution_count": 1,
      "outputs": [
        {
          "output_type": "stream",
          "text": "32\n3.7416573867739413\n8.774964387392123\n0.9746318461970762\n",
          "name": "stdout"
        }
      ]
    },
    {
      "metadata": {},
      "cell_type": "markdown",
      "source": "## 問２$\n  A = \\left(\n    \\begin{array}{cc}\n      1 & 2 \\\\\n      3 & 4 \\\\\n      5 & 6\n    \\end{array}\n  \\right)\n,\n  B = \\left(\n    \\begin{array}{cc}\n      1 & -1 \\\\\n      -2 & 5 \n    \\end{array}\n  \\right)\n$ のとき、$C = AB$を求めよ"
    },
    {
      "metadata": {
        "trusted": true
      },
      "cell_type": "code",
      "source": "A = np.array([[1, 2], [3, 4], [5, 6]])\nB = np.array([[1, -1], [-2, 5]])\nC = np.dot(A, B)\nprint(C)",
      "execution_count": 2,
      "outputs": [
        {
          "output_type": "stream",
          "text": "[[-3  9]\n [-5 17]\n [-7 25]]\n",
          "name": "stdout"
        }
      ]
    },
    {
      "metadata": {},
      "cell_type": "markdown",
      "source": "# 問３ 次の連立方程式を解きなさい。\n$\n\\left\\{\n\\begin{array}{l}\n  2x + 3y -5z = 1 \\\\\n  x + y -z = 2 \\\\\n  -3x -6y +2z = -7\n\\end{array}\n\\right.\n$\n## (1)numpyのsolveで解く場合"
    },
    {
      "metadata": {
        "trusted": true
      },
      "cell_type": "code",
      "source": "from numpy.linalg import solve\nleft = [[2, 3, -5],\n        [1, 1, -1],\n        [-3, -6, 2]\n       ]\nright = [1, 2, -7]\nprint(solve(left, right))",
      "execution_count": 3,
      "outputs": [
        {
          "output_type": "stream",
          "text": "[ 3.00000000e+00 -2.77555756e-16  1.00000000e+00]\n",
          "name": "stdout"
        }
      ]
    },
    {
      "metadata": {},
      "cell_type": "markdown",
      "source": "## (2)sympyのsolveで解く場合"
    },
    {
      "metadata": {
        "trusted": true
      },
      "cell_type": "code",
      "source": "import sympy as sp\nx = sp.Symbol('x')\ny = sp.Symbol('y')\nz = sp.Symbol('z')\n\neq1 = 2*x + 3*y -5*z -1\neq2 = x + y -z -2\neq3 = -3*x -6*y +2*z +7\n\nprint(sp.solve([eq1, eq2, eq3]))",
      "execution_count": 4,
      "outputs": [
        {
          "output_type": "stream",
          "text": "{x: 3, y: 0, z: 1}\n",
          "name": "stdout"
        }
      ]
    },
    {
      "metadata": {
        "trusted": true
      },
      "cell_type": "code",
      "source": "",
      "execution_count": null,
      "outputs": []
    }
  ],
  "metadata": {
    "kernelspec": {
      "name": "python36",
      "display_name": "Python 3.6",
      "language": "python"
    },
    "language_info": {
      "mimetype": "text/x-python",
      "nbconvert_exporter": "python",
      "name": "python",
      "pygments_lexer": "ipython3",
      "version": "3.6.6",
      "file_extension": ".py",
      "codemirror_mode": {
        "version": 3,
        "name": "ipython"
      }
    }
  },
  "nbformat": 4,
  "nbformat_minor": 2
}