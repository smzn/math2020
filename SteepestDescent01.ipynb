{
  "cells": [
    {
      "metadata": {},
      "cell_type": "markdown",
      "source": "# 最急降下法の例"
    },
    {
      "metadata": {},
      "cell_type": "markdown",
      "source": "$f(x_1, x_2) = 10x_1^2 + 5x_1x_2 + 10(x_2-3)^2$を最小化する$(𝑥_1,𝑥_2)$を最急降下法で求めよ。ただし $(x_1, x_2) = [-10,10]\\times [-15,15]$であり、初期値は$𝑥^((0))=(10,15)^𝑇$とする。また学習率は、 $\\eta=0.05$とする。"
    },
    {
      "metadata": {
        "trusted": true
      },
      "cell_type": "code",
      "source": "import sympy\nx0, x1, x2 = sympy.symbols('x0 x1 x2')\neta = 0.05\nsympy.init_printing()\n\nf = 10*x1**2 +5*x1*x2 +10*(x2-3)**2\nf",
      "execution_count": 28,
      "outputs": [
        {
          "output_type": "execute_result",
          "execution_count": 28,
          "data": {
            "image/png": "[encoded data removed]",
            "text/latex": "$$10 x_{1}^{2} + 5 x_{1} x_{2} + 10 \\left(x_{2} - 3\\right)^{2}$$",
            "text/plain": "     2                        2\n10⋅x₁  + 5⋅x₁⋅x₂ + 10⋅(x₂ - 3) "
          },
          "metadata": {}
        }
      ]
    },
    {
      "metadata": {
        "trusted": true
      },
      "cell_type": "code",
      "source": "#x0が求めたい解、初期値を(10,15)とおく\nx0 = sympy.Matrix([[10],[15]])\nx0",
      "execution_count": 2,
      "outputs": [
        {
          "output_type": "execute_result",
          "execution_count": 2,
          "data": {
            "text/latex": "$$\\left[\\begin{matrix}10\\\\15\\end{matrix}\\right]$$",
            "text/plain": "⎡10⎤\n⎢  ⎥\n⎣15⎦"
          },
          "metadata": {}
        }
      ]
    },
    {
      "metadata": {
        "trusted": true
      },
      "cell_type": "code",
      "source": "fx = f.subs([(x1, x0[0]),(x2, x0[1])])\nfx",
      "execution_count": 3,
      "outputs": [
        {
          "output_type": "execute_result",
          "execution_count": 3,
          "data": {
            "image/png": "[encoded data removed]",
            "text/latex": "$$3190$$",
            "text/plain": "3190"
          },
          "metadata": {}
        }
      ]
    },
    {
      "metadata": {
        "trusted": true
      },
      "cell_type": "code",
      "source": "dfx1 = sympy.diff(f, x1)\ndfx1",
      "execution_count": 4,
      "outputs": [
        {
          "output_type": "execute_result",
          "execution_count": 4,
          "data": {
            "image/png": "[encoded data removed]",
            "text/latex": "$$20 x_{1} + 5 x_{2}$$",
            "text/plain": "20⋅x₁ + 5⋅x₂"
          },
          "metadata": {}
        }
      ]
    },
    {
      "metadata": {
        "trusted": true
      },
      "cell_type": "code",
      "source": "dfx2 = sympy.diff(f, x2)\ndfx2",
      "execution_count": 5,
      "outputs": [
        {
          "output_type": "execute_result",
          "execution_count": 5,
          "data": {
            "image/png": "[encoded data removed]",
            "text/latex": "$$5 x_{1} + 20 x_{2} - 60$$",
            "text/plain": "5⋅x₁ + 20⋅x₂ - 60"
          },
          "metadata": {}
        }
      ]
    },
    {
      "metadata": {
        "trusted": true
      },
      "cell_type": "code",
      "source": "df = sympy.Matrix([[dfx1], [dfx2]])\ndf",
      "execution_count": 6,
      "outputs": [
        {
          "output_type": "execute_result",
          "execution_count": 6,
          "data": {
            "text/latex": "$$\\left[\\begin{matrix}20 x_{1} + 5 x_{2}\\\\5 x_{1} + 20 x_{2} - 60\\end{matrix}\\right]$$",
            "text/plain": "⎡  20⋅x₁ + 5⋅x₂   ⎤\n⎢                 ⎥\n⎣5⋅x₁ + 20⋅x₂ - 60⎦"
          },
          "metadata": {}
        }
      ]
    },
    {
      "metadata": {},
      "cell_type": "markdown",
      "source": "## 1回目の更新"
    },
    {
      "metadata": {
        "trusted": true
      },
      "cell_type": "code",
      "source": "dfx0 = sympy.Matrix([[df[0].subs([(x1, x0[0]), (x2, x0[1])])],[df[1].subs([(x1, x0[0]), (x2, x0[1])])]])\ndfx0",
      "execution_count": 7,
      "outputs": [
        {
          "output_type": "execute_result",
          "execution_count": 7,
          "data": {
            "text/latex": "$$\\left[\\begin{matrix}275\\\\290\\end{matrix}\\right]$$",
            "text/plain": "⎡275⎤\n⎢   ⎥\n⎣290⎦"
          },
          "metadata": {}
        }
      ]
    },
    {
      "metadata": {
        "trusted": true
      },
      "cell_type": "code",
      "source": "#x0の更新\nx0 = x0 - eta*dfx0\nx0",
      "execution_count": 8,
      "outputs": [
        {
          "output_type": "execute_result",
          "execution_count": 8,
          "data": {
            "text/latex": "$$\\left[\\begin{matrix}-3.75\\\\0.5\\end{matrix}\\right]$$",
            "text/plain": "⎡-3.75⎤\n⎢     ⎥\n⎣ 0.5 ⎦"
          },
          "metadata": {}
        }
      ]
    },
    {
      "metadata": {
        "trusted": true
      },
      "cell_type": "code",
      "source": "fx = f.subs([(x1, x0[0]),(x2, x0[1])])\nfx",
      "execution_count": 9,
      "outputs": [
        {
          "output_type": "execute_result",
          "execution_count": 9,
          "data": {
            "image/png": "[encoded data removed]",
            "text/latex": "$$193.75$$",
            "text/plain": "193.750000000000"
          },
          "metadata": {}
        }
      ]
    },
    {
      "metadata": {},
      "cell_type": "markdown",
      "source": "## 2回目の更新"
    },
    {
      "metadata": {
        "trusted": true
      },
      "cell_type": "code",
      "source": "dfx0 = sympy.Matrix([[df[0].subs([(x1, x0[0]), (x2, x0[1])])],[df[1].subs([(x1, x0[0]), (x2, x0[1])])]])\ndfx0",
      "execution_count": 10,
      "outputs": [
        {
          "output_type": "execute_result",
          "execution_count": 10,
          "data": {
            "text/latex": "$$\\left[\\begin{matrix}-72.5\\\\-68.75\\end{matrix}\\right]$$",
            "text/plain": "⎡-72.5 ⎤\n⎢      ⎥\n⎣-68.75⎦"
          },
          "metadata": {}
        }
      ]
    },
    {
      "metadata": {
        "trusted": true
      },
      "cell_type": "code",
      "source": "#x0の更新\nx0 = x0 - eta*dfx0\nx0",
      "execution_count": 11,
      "outputs": [
        {
          "output_type": "execute_result",
          "execution_count": 11,
          "data": {
            "text/latex": "$$\\left[\\begin{matrix}-0.125\\\\3.9375\\end{matrix}\\right]$$",
            "text/plain": "⎡-0.125⎤\n⎢      ⎥\n⎣3.9375⎦"
          },
          "metadata": {}
        }
      ]
    },
    {
      "metadata": {
        "trusted": true
      },
      "cell_type": "code",
      "source": "fx = f.subs([(x1, x0[0]),(x2, x0[1])])\nfx",
      "execution_count": 12,
      "outputs": [
        {
          "output_type": "execute_result",
          "execution_count": 12,
          "data": {
            "image/png": "[encoded data removed]",
            "text/latex": "$$6.484375$$",
            "text/plain": "6.48437500000000"
          },
          "metadata": {}
        }
      ]
    },
    {
      "metadata": {},
      "cell_type": "markdown",
      "source": "## 3回目の更新"
    },
    {
      "metadata": {
        "trusted": true
      },
      "cell_type": "code",
      "source": "dfx0 = sympy.Matrix([[df[0].subs([(x1, x0[0]), (x2, x0[1])])],[df[1].subs([(x1, x0[0]), (x2, x0[1])])]])\ndfx0",
      "execution_count": 13,
      "outputs": [
        {
          "output_type": "execute_result",
          "execution_count": 13,
          "data": {
            "text/latex": "$$\\left[\\begin{matrix}17.1875\\\\18.125\\end{matrix}\\right]$$",
            "text/plain": "⎡17.1875⎤\n⎢       ⎥\n⎣18.125 ⎦"
          },
          "metadata": {}
        }
      ]
    },
    {
      "metadata": {
        "trusted": true
      },
      "cell_type": "code",
      "source": "#x0の更新\nx0 = x0 - eta*dfx0\nx0",
      "execution_count": 14,
      "outputs": [
        {
          "output_type": "execute_result",
          "execution_count": 14,
          "data": {
            "text/latex": "$$\\left[\\begin{matrix}-0.984375\\\\3.03125\\end{matrix}\\right]$$",
            "text/plain": "⎡-0.984375⎤\n⎢         ⎥\n⎣ 3.03125 ⎦"
          },
          "metadata": {}
        }
      ]
    },
    {
      "metadata": {
        "trusted": true
      },
      "cell_type": "code",
      "source": "fx = f.subs([(x1, x0[0]),(x2, x0[1])])\nfx",
      "execution_count": 15,
      "outputs": [
        {
          "output_type": "execute_result",
          "execution_count": 15,
          "data": {
            "image/png": "[encoded data removed]",
            "text/latex": "$$-5.2197265625$$",
            "text/plain": "-5.21972656250000"
          },
          "metadata": {}
        }
      ]
    },
    {
      "metadata": {},
      "cell_type": "markdown",
      "source": "## 4回目の更新"
    },
    {
      "metadata": {
        "trusted": true
      },
      "cell_type": "code",
      "source": "dfx0 = sympy.Matrix([[df[0].subs([(x1, x0[0]), (x2, x0[1])])],[df[1].subs([(x1, x0[0]), (x2, x0[1])])]])\ndfx0",
      "execution_count": 16,
      "outputs": [
        {
          "output_type": "execute_result",
          "execution_count": 16,
          "data": {
            "text/latex": "$$\\left[\\begin{matrix}-4.53125\\\\-4.296875\\end{matrix}\\right]$$",
            "text/plain": "⎡-4.53125 ⎤\n⎢         ⎥\n⎣-4.296875⎦"
          },
          "metadata": {}
        }
      ]
    },
    {
      "metadata": {
        "trusted": true
      },
      "cell_type": "code",
      "source": "#x0の更新\nx0 = x0 - eta*dfx0\nx0",
      "execution_count": 17,
      "outputs": [
        {
          "output_type": "execute_result",
          "execution_count": 17,
          "data": {
            "text/latex": "$$\\left[\\begin{matrix}-0.7578125\\\\3.24609375\\end{matrix}\\right]$$",
            "text/plain": "⎡-0.7578125⎤\n⎢          ⎥\n⎣3.24609375⎦"
          },
          "metadata": {}
        }
      ]
    },
    {
      "metadata": {
        "trusted": true
      },
      "cell_type": "code",
      "source": "fx = f.subs([(x1, x0[0]),(x2, x0[1])])\nfx",
      "execution_count": 18,
      "outputs": [
        {
          "output_type": "execute_result",
          "execution_count": 18,
          "data": {
            "image/png": "[encoded data removed]",
            "text/latex": "$$-5.95123291015625$$",
            "text/plain": "-5.95123291015625"
          },
          "metadata": {}
        }
      ]
    },
    {
      "metadata": {},
      "cell_type": "markdown",
      "source": "## 5回目の更新 "
    },
    {
      "metadata": {
        "trusted": true
      },
      "cell_type": "code",
      "source": "dfx0 = sympy.Matrix([[df[0].subs([(x1, x0[0]), (x2, x0[1])])],[df[1].subs([(x1, x0[0]), (x2, x0[1])])]])\ndfx0",
      "execution_count": 19,
      "outputs": [
        {
          "output_type": "execute_result",
          "execution_count": 19,
          "data": {
            "text/latex": "$$\\left[\\begin{matrix}1.07421875\\\\1.1328125\\end{matrix}\\right]$$",
            "text/plain": "⎡1.07421875⎤\n⎢          ⎥\n⎣1.1328125 ⎦"
          },
          "metadata": {}
        }
      ]
    },
    {
      "metadata": {
        "trusted": true
      },
      "cell_type": "code",
      "source": "#x0の更新\nx0 = x0 - eta*dfx0\nx0",
      "execution_count": 20,
      "outputs": [
        {
          "output_type": "execute_result",
          "execution_count": 20,
          "data": {
            "text/latex": "$$\\left[\\begin{matrix}-0.8115234375\\\\3.189453125\\end{matrix}\\right]$$",
            "text/plain": "⎡-0.8115234375⎤\n⎢             ⎥\n⎣ 3.189453125 ⎦"
          },
          "metadata": {}
        }
      ]
    },
    {
      "metadata": {
        "trusted": true
      },
      "cell_type": "code",
      "source": "fx = f.subs([(x1, x0[0]),(x2, x0[1])])\nfx",
      "execution_count": 21,
      "outputs": [
        {
          "output_type": "execute_result",
          "execution_count": 21,
          "data": {
            "image/png": "[encoded data removed]",
            "text/latex": "$$-5.99695205688477$$",
            "text/plain": "-5.99695205688477"
          },
          "metadata": {}
        }
      ]
    },
    {
      "metadata": {},
      "cell_type": "markdown",
      "source": "## 6回目の更新"
    },
    {
      "metadata": {
        "trusted": true
      },
      "cell_type": "code",
      "source": "dfx0 = sympy.Matrix([[df[0].subs([(x1, x0[0]), (x2, x0[1])])],[df[1].subs([(x1, x0[0]), (x2, x0[1])])]])\ndfx0",
      "execution_count": 22,
      "outputs": [
        {
          "output_type": "execute_result",
          "execution_count": 22,
          "data": {
            "text/latex": "$$\\left[\\begin{matrix}-0.283203125\\\\-0.2685546875\\end{matrix}\\right]$$",
            "text/plain": "⎡-0.283203125 ⎤\n⎢             ⎥\n⎣-0.2685546875⎦"
          },
          "metadata": {}
        }
      ]
    },
    {
      "metadata": {
        "trusted": true
      },
      "cell_type": "code",
      "source": "#x0の更新\nx0 = x0 - eta*dfx0\nx0",
      "execution_count": 23,
      "outputs": [
        {
          "output_type": "execute_result",
          "execution_count": 23,
          "data": {
            "text/latex": "$$\\left[\\begin{matrix}-0.79736328125\\\\3.202880859375\\end{matrix}\\right]$$",
            "text/plain": "⎡-0.79736328125⎤\n⎢              ⎥\n⎣3.202880859375⎦"
          },
          "metadata": {}
        }
      ]
    },
    {
      "metadata": {
        "trusted": true
      },
      "cell_type": "code",
      "source": "fx = f.subs([(x1, x0[0]),(x2, x0[1])])\nfx",
      "execution_count": 24,
      "outputs": [
        {
          "output_type": "execute_result",
          "execution_count": 24,
          "data": {
            "image/png": "[encoded data removed]",
            "text/latex": "$$-5.9998095035553$$",
            "text/plain": "-5.99980950355530"
          },
          "metadata": {}
        }
      ]
    },
    {
      "metadata": {},
      "cell_type": "markdown",
      "source": "## 解析的に解く"
    },
    {
      "metadata": {
        "trusted": true
      },
      "cell_type": "code",
      "source": "x_0 = sympy.solve([dfx1, dfx2])\nx_0",
      "execution_count": 25,
      "outputs": [
        {
          "output_type": "execute_result",
          "execution_count": 25,
          "data": {
            "image/png": "[encoded data removed]",
            "text/latex": "$$\\left \\{ x_{1} : - \\frac{4}{5}, \\quad x_{2} : \\frac{16}{5}\\right \\}$$",
            "text/plain": "{x₁: -4/5, x₂: 16/5}"
          },
          "metadata": {}
        }
      ]
    },
    {
      "metadata": {
        "trusted": true
      },
      "cell_type": "code",
      "source": "#x_0は辞書配列になているので、リストに変換する\ntype(x_0)\nk_list = list(x_0.keys()) #keyのリスト化\nprint(k_list) #x2,x1の順に注意\nv_list = list(x_0.values()) #valueのリスト化\nprint(v_list)\nprint(float(v_list[0])) #実数値で表示\nprint(float(v_list[1]))",
      "execution_count": 26,
      "outputs": [
        {
          "output_type": "stream",
          "text": "[x1, x2]\n[-4/5, 16/5]\n-0.8\n3.2\n",
          "name": "stdout"
        }
      ]
    },
    {
      "metadata": {
        "trusted": true
      },
      "cell_type": "code",
      "source": "fx = f.subs([(x1, float(v_list[0])),(x2, float(v_list[1]))])\nfx",
      "execution_count": 29,
      "outputs": [
        {
          "output_type": "execute_result",
          "execution_count": 29,
          "data": {
            "image/png": "[encoded data removed]",
            "text/latex": "$$-6.0$$",
            "text/plain": "-6.00000000000000"
          },
          "metadata": {}
        }
      ]
    },
    {
      "metadata": {
        "trusted": true
      },
      "cell_type": "code",
      "source": "",
      "execution_count": null,
      "outputs": []
    }
  ],
  "metadata": {
    "kernelspec": {
      "name": "python3",
      "display_name": "Python 3",
      "language": "python"
    },
    "language_info": {
      "mimetype": "text/x-python",
      "nbconvert_exporter": "python",
      "name": "python",
      "pygments_lexer": "ipython3",
      "version": "3.5.4",
      "file_extension": ".py",
      "codemirror_mode": {
        "version": 3,
        "name": "ipython"
      }
    }
  },
  "nbformat": 4,
  "nbformat_minor": 2
}