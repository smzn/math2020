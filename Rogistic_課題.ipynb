{
  "cells": [
    {
      "metadata": {
        "trusted": true
      },
      "cell_type": "code",
      "source": "import numpy as np\nimport matplotlib.pyplot as plt",
      "execution_count": 1,
      "outputs": []
    },
    {
      "metadata": {
        "trusted": true
      },
      "cell_type": "code",
      "source": "#課題データ\ndata = np.array([[1, 0.2, 0.8, 1],\n                 [1, 0.3, 0.2, 0],\n                 [1, 0.7, 0.5, 0],\n                 [1, 0.4, 0.7, 1],\n                 [1, 0.3, 0.9, 1],\n                 [1, 0.6, 0.3, 0]\n                ])\n\nx = data[:,1:3] #2,3列目をxに代入\nt = data[:,3] #4列目をyに代入",
      "execution_count": 2,
      "outputs": []
    },
    {
      "metadata": {
        "trusted": true
      },
      "cell_type": "code",
      "source": "#グラフ表示\nplt.plot(x[t == 1, 0], x[t == 1, 1], 'o')\nplt.plot(x[t == 0, 0], x[t == 0, 1], '^')",
      "execution_count": 3,
      "outputs": [
        {
          "output_type": "execute_result",
          "execution_count": 3,
          "data": {
            "text/plain": "[<matplotlib.lines.Line2D at 0x7efe485856a0>]"
          },
          "metadata": {}
        },
        {
          "output_type": "display_data",
          "data": {
            "image/png": "[encoded data removed]",
            "text/plain": "<Figure size 432x288 with 1 Axes>"
          },
          "metadata": {
            "needs_background": "light"
          }
        }
      ]
    },
    {
      "metadata": {
        "trusted": true
      },
      "cell_type": "code",
      "source": "w = np.array([1.0,1.0,1.0]) #wの初期値の設定\neta = 0.1 #学習率\nK = 1000 #繰り返し回数\nf_value = [] #目的関数値\nindex = [] #繰り返し回数",
      "execution_count": 4,
      "outputs": []
    },
    {
      "metadata": {
        "trusted": true
      },
      "cell_type": "code",
      "source": "#シグモイド関数\ndef sigmoid(w,x):\n    return 1 / (1 + np.exp(-np.dot(w,x)))",
      "execution_count": 5,
      "outputs": []
    },
    {
      "metadata": {
        "trusted": true
      },
      "cell_type": "code",
      "source": "for k in range(K):\n    #交差エントロピー誤差関数\n    f = 0.0\n    for i in range(len(data)):\n        f += data[i][3] * np.log(sigmoid(w,data[i][0:3])) + (1 - data[i][3] ) * np.log(1 - sigmoid(w,data[i][0:3]))\n    f *= -1\n    w_sum = np.array([0.0,0.0,0.0]) #第１成分w0更新の和、第２成分w1, 第３成分w2\n    #更新式の和の部分の計算\n    for i in range(len(data)):\n        for j in range(len(w)):\n            w_sum[j] += (sigmoid(w,data[i][0:3]) - data[i][3]) * data[i][j] \n    #wの更新\n    for j in range(len(w)):\n        w[j] -= eta * w_sum[j]\n    if(k > 0):\n        index.append(k)\n        f_value.append(f)\nprint(f)\nprint(w)\nplt.plot(index, f_value)",
      "execution_count": 6,
      "outputs": [
        {
          "output_type": "stream",
          "text": "0.2684035744801293\n[-3.16092171 -7.54909632 11.80819824]\n",
          "name": "stdout"
        },
        {
          "output_type": "execute_result",
          "execution_count": 6,
          "data": {
            "text/plain": "[<matplotlib.lines.Line2D at 0x7efe44ee7128>]"
          },
          "metadata": {}
        },
        {
          "output_type": "display_data",
          "data": {
            "image/png": "[encoded data removed]",
            "text/plain": "<Figure size 432x288 with 1 Axes>"
          },
          "metadata": {
            "needs_background": "light"
          }
        }
      ]
    },
    {
      "metadata": {
        "trusted": true
      },
      "cell_type": "code",
      "source": "p = np.arange(-0.2, 1.2, 0.01)\nq = -w[0]/w[2] - w[1]/w[2]*p\nplt.plot(p, q)\nplt.plot(x[t == 1, 0], x[t == 1, 1], 'o')\nplt.plot(x[t == 0, 0], x[t == 0, 1], '^')",
      "execution_count": 7,
      "outputs": [
        {
          "output_type": "execute_result",
          "execution_count": 7,
          "data": {
            "text/plain": "[<matplotlib.lines.Line2D at 0x7efe44e48080>]"
          },
          "metadata": {}
        },
        {
          "output_type": "display_data",
          "data": {
            "image/png": "[encoded data removed]",
            "text/plain": "<Figure size 432x288 with 1 Axes>"
          },
          "metadata": {
            "needs_background": "light"
          }
        }
      ]
    },
    {
      "metadata": {
        "trusted": true
      },
      "cell_type": "code",
      "source": "for i in range(len(data)):\n    print(str(i)+\"番目データの確率\")\n    print(sigmoid(w,data[i][0:3]))",
      "execution_count": 8,
      "outputs": [
        {
          "output_type": "stream",
          "text": "0番目データの確率\n0.991639302799508\n1番目データの確率\n0.04461642002133343\n2番目データの確率\n0.07302058197721911\n3番目データの確率\n0.8894542418297877\n4番目データの確率\n0.9945231203070665\n5番目データの確率\n0.0155515682279649\n",
          "name": "stdout"
        }
      ]
    },
    {
      "metadata": {
        "trusted": true
      },
      "cell_type": "code",
      "source": "",
      "execution_count": null,
      "outputs": []
    }
  ],
  "metadata": {
    "kernelspec": {
      "name": "python36",
      "display_name": "Python 3.6",
      "language": "python"
    },
    "language_info": {
      "mimetype": "text/x-python",
      "nbconvert_exporter": "python",
      "name": "python",
      "pygments_lexer": "ipython3",
      "version": "3.6.6",
      "file_extension": ".py",
      "codemirror_mode": {
        "version": 3,
        "name": "ipython"
      }
    }
  },
  "nbformat": 4,
  "nbformat_minor": 2
}