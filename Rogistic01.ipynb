{
  "cells": [
    {
      "metadata": {
        "trusted": true
      },
      "cell_type": "code",
      "source": "import numpy as np\nimport matplotlib.pyplot as plt",
      "execution_count": 12,
      "outputs": []
    },
    {
      "metadata": {
        "trusted": true
      },
      "cell_type": "code",
      "source": "#データセットの定義 (1列目:x0, 2列目:x1, 3列目:x2, 4列目:t)\n#ANDデータ\ndata = np.array([[1, 0, 0, 0],\n                 [1, 1, 0, 0],\n                 [1, 0, 1, 0],\n                 [1, 1, 1, 1],\n                ])\n\nx = data[:,1:3] #2,3列目をxに代入\nt = data[:,3] #4列目をyに代入",
      "execution_count": 2,
      "outputs": []
    },
    {
      "metadata": {
        "trusted": true
      },
      "cell_type": "code",
      "source": "#ORデータ\ndata = np.array([[1, 0, 0, 0],\n                 [1, 1, 0, 1],\n                 [1, 0, 1, 1],\n                 [1, 1, 1, 1],\n                ])\n\nx = data[:,1:3] #2,3列目をxに代入\nt = data[:,3] #4列目をyに代入",
      "execution_count": 13,
      "outputs": []
    },
    {
      "metadata": {
        "trusted": true
      },
      "cell_type": "code",
      "source": "#XORデータ\ndata = np.array([[1, 0, 0, 0],\n                 [1, 1, 0, 1],\n                 [1, 0, 1, 1],\n                 [1, 1, 1, 0],\n                ])\n\nx = data[:,1:3] #2,3列目をxに代入\nt = data[:,3] #4列目をyに代入",
      "execution_count": 24,
      "outputs": []
    },
    {
      "metadata": {
        "trusted": true
      },
      "cell_type": "code",
      "source": "#グラフ表示\nplt.plot(x[t == 1, 0], x[t == 1, 1], 'o')\nplt.plot(x[t == 0, 0], x[t == 0, 1], '^')",
      "execution_count": 25,
      "outputs": [
        {
          "output_type": "execute_result",
          "execution_count": 25,
          "data": {
            "text/plain": "[<matplotlib.lines.Line2D at 0x7f84101d44e0>]"
          },
          "metadata": {}
        },
        {
          "output_type": "display_data",
          "data": {
            "image/png": "[encoded data removed]",
            "text/plain": "<Figure size 432x288 with 1 Axes>"
          },
          "metadata": {
            "needs_background": "light"
          }
        }
      ]
    },
    {
      "metadata": {
        "trusted": true
      },
      "cell_type": "code",
      "source": "w = np.array([1.0,1.0,1.0]) #αの初期値の設定\neta = 0.1 #学習率\nK = 1000 #繰り返し回数\nf_value = [] #目的関数値\nindex = [] #繰り返し回数",
      "execution_count": 26,
      "outputs": []
    },
    {
      "metadata": {
        "trusted": true
      },
      "cell_type": "code",
      "source": "#シグモイド関数\ndef sigmoid(w,x):\n    return 1 / (1 + np.exp(-np.dot(w,x)))",
      "execution_count": 27,
      "outputs": []
    },
    {
      "metadata": {
        "trusted": true
      },
      "cell_type": "code",
      "source": "for k in range(K):\n    #交差エントロピー誤差関数\n    f = 0.0\n    for i in range(len(data)):\n        f += data[i][3] * np.log(sigmoid(w,data[i][0:3])) + (1 - data[i][3] ) * np.log(1 - sigmoid(w,data[i][0:3]))\n    f *= -1\n    w_sum = np.array([0.0,0.0,0.0]) #第１成分w0更新の和、第２成分w1, 第３成分w2\n    #更新式の和の部分の計算\n    for i in range(len(data)):\n        for j in range(len(w)):\n            w_sum[j] += (sigmoid(w,data[i][0:3]) - data[i][3]) * data[i][j] \n    #wの更新\n    for j in range(len(w)):\n        w[j] -= eta * w_sum[j]\n    if(k > 0):\n        index.append(k)\n        f_value.append(f)\nprint(f)\nprint(w)\nplt.plot(index, f_value)",
      "execution_count": 28,
      "outputs": [
        {
          "output_type": "stream",
          "text": "2.772588722239782\n[-4.21956139e-08  3.55738702e-08  3.55738702e-08]\n",
          "name": "stdout"
        },
        {
          "output_type": "execute_result",
          "execution_count": 28,
          "data": {
            "text/plain": "[<matplotlib.lines.Line2D at 0x7f8410167cc0>]"
          },
          "metadata": {}
        },
        {
          "output_type": "display_data",
          "data": {
            "image/png": "[encoded data removed]",
            "text/plain": "<Figure size 432x288 with 1 Axes>"
          },
          "metadata": {
            "needs_background": "light"
          }
        }
      ]
    },
    {
      "metadata": {
        "trusted": true
      },
      "cell_type": "code",
      "source": "p = np.arange(-0.2, 1.2, 0.01)\nq = -w[0]/w[2] - w[1]/w[2]*p\nplt.plot(p, q)\nplt.plot(x[t == 1, 0], x[t == 1, 1], 'o')\nplt.plot(x[t == 0, 0], x[t == 0, 1], '^')",
      "execution_count": 29,
      "outputs": [
        {
          "output_type": "execute_result",
          "execution_count": 29,
          "data": {
            "text/plain": "[<matplotlib.lines.Line2D at 0x7f84100cc240>]"
          },
          "metadata": {}
        },
        {
          "output_type": "display_data",
          "data": {
            "image/png": "[encoded data removed]",
            "text/plain": "<Figure size 432x288 with 1 Axes>"
          },
          "metadata": {
            "needs_background": "light"
          }
        }
      ]
    },
    {
      "metadata": {
        "trusted": true
      },
      "cell_type": "code",
      "source": "sigmoid(w,data[0][0:3]) #(x1,x2)=(0,0)",
      "execution_count": 30,
      "outputs": [
        {
          "output_type": "execute_result",
          "execution_count": 30,
          "data": {
            "text/plain": "0.49999998945109647"
          },
          "metadata": {}
        }
      ]
    },
    {
      "metadata": {
        "trusted": true
      },
      "cell_type": "code",
      "source": "sigmoid(w,data[1][0:3]) #(x1,x2)=(1,0)",
      "execution_count": 31,
      "outputs": [
        {
          "output_type": "execute_result",
          "execution_count": 31,
          "data": {
            "text/plain": "0.499999998344564"
          },
          "metadata": {}
        }
      ]
    },
    {
      "metadata": {
        "trusted": true
      },
      "cell_type": "code",
      "source": "sigmoid(w,data[2][0:3]) #(x1,x2)=(0,1)",
      "execution_count": 32,
      "outputs": [
        {
          "output_type": "execute_result",
          "execution_count": 32,
          "data": {
            "text/plain": "0.499999998344564"
          },
          "metadata": {}
        }
      ]
    },
    {
      "metadata": {
        "trusted": true
      },
      "cell_type": "code",
      "source": "sigmoid(w,data[3][0:3]) #(x1,x2)=(1,1)",
      "execution_count": 33,
      "outputs": [
        {
          "output_type": "execute_result",
          "execution_count": 33,
          "data": {
            "text/plain": "0.5000000072380316"
          },
          "metadata": {}
        }
      ]
    },
    {
      "metadata": {
        "trusted": true
      },
      "cell_type": "code",
      "source": "",
      "execution_count": null,
      "outputs": []
    }
  ],
  "metadata": {
    "kernelspec": {
      "name": "python36",
      "display_name": "Python 3.6",
      "language": "python"
    },
    "language_info": {
      "mimetype": "text/x-python",
      "nbconvert_exporter": "python",
      "name": "python",
      "pygments_lexer": "ipython3",
      "version": "3.6.6",
      "file_extension": ".py",
      "codemirror_mode": {
        "version": 3,
        "name": "ipython"
      }
    }
  },
  "nbformat": 4,
  "nbformat_minor": 2
}