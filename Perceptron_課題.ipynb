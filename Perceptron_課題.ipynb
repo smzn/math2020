{
  "cells": [
    {
      "metadata": {
        "trusted": true
      },
      "cell_type": "code",
      "source": "import numpy as np\nimport matplotlib.pyplot as plt",
      "execution_count": 1,
      "outputs": []
    },
    {
      "metadata": {
        "trusted": true
      },
      "cell_type": "code",
      "source": "#課題データ\ndata = np.array([[1, 0.2, 0.8, 1],\n                 [1, 0.3, 0.2, -1],\n                 [1, 0.7, 0.5, -1],\n                 [1, 0.4, 0.7, 1],\n                 [1, 0.3, 0.9, 1],\n                 [1, 0.6, 0.3, -1]\n                ])\n\nx = data[:,1:3] #2,3列目をxに代入\nt = data[:,3] #4列目をyに代入",
      "execution_count": 2,
      "outputs": []
    },
    {
      "metadata": {
        "trusted": true
      },
      "cell_type": "code",
      "source": "#グラフ表示\nplt.plot(x[t == 1, 0], x[t == 1, 1], 'o')\nplt.plot(x[t == -1, 0], x[t == -1, 1], '^')",
      "execution_count": 3,
      "outputs": [
        {
          "output_type": "execute_result",
          "execution_count": 3,
          "data": {
            "text/plain": "[<matplotlib.lines.Line2D at 0x7f91a3d816d8>]"
          },
          "metadata": {}
        },
        {
          "output_type": "display_data",
          "data": {
            "image/png": "[encoded data removed]",
            "text/plain": "<Figure size 432x288 with 1 Axes>"
          },
          "metadata": {
            "needs_background": "light"
          }
        }
      ]
    },
    {
      "metadata": {
        "trusted": true
      },
      "cell_type": "code",
      "source": "w = np.ones(3) #wの初期化(今回は全て1.0)\nloop = 20 #学習回数\neta = 0.1 #学習率\n\n#学習開始\nfor i in range(loop):\n    for value_x, value_t in zip(data[:,0:3], data[:,3]):\n        if(-value_t * np.dot(w, value_x) > 0): #更新が必要\n            #print(np.dot(w, value_x))\n            w += eta * value_t * value_x\nprint(w)",
      "execution_count": 4,
      "outputs": [
        {
          "output_type": "stream",
          "text": "[-0.4   0.11  0.63]\n",
          "name": "stdout"
        }
      ]
    },
    {
      "metadata": {
        "trusted": true
      },
      "cell_type": "code",
      "source": "p = np.arange(-0.2, 1.2, 0.01)\nq = -w[0]/w[2] - w[1]/w[2]*p\nplt.plot(p, q)\nplt.plot(x[t == 1, 0], x[t == 1, 1], 'o')\nplt.plot(x[t == -1, 0], x[t == -1, 1], '^')",
      "execution_count": 5,
      "outputs": [
        {
          "output_type": "execute_result",
          "execution_count": 5,
          "data": {
            "text/plain": "[<matplotlib.lines.Line2D at 0x7f91a074ac88>]"
          },
          "metadata": {}
        },
        {
          "output_type": "display_data",
          "data": {
            "image/png": "[encoded data removed]",
            "text/plain": "<Figure size 432x288 with 1 Axes>"
          },
          "metadata": {
            "needs_background": "light"
          }
        }
      ]
    },
    {
      "metadata": {
        "trusted": true
      },
      "cell_type": "code",
      "source": "",
      "execution_count": null,
      "outputs": []
    }
  ],
  "metadata": {
    "kernelspec": {
      "name": "python36",
      "display_name": "Python 3.6",
      "language": "python"
    },
    "language_info": {
      "mimetype": "text/x-python",
      "nbconvert_exporter": "python",
      "name": "python",
      "pygments_lexer": "ipython3",
      "version": "3.6.6",
      "file_extension": ".py",
      "codemirror_mode": {
        "version": 3,
        "name": "ipython"
      }
    }
  },
  "nbformat": 4,
  "nbformat_minor": 2
}