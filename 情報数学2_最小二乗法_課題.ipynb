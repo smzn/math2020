{
  "cells": [
    {
      "metadata": {
        "collapsed": true
      },
      "cell_type": "markdown",
      "source": "次のデータセット$(x,y)$から得られる回帰直線を最小二乗法で求め、データセットと共に、回帰直線を図示しなさい。また決定係数を求めなさい。これらをJupyterの環境で実行して、PDFに変換して提出しなさい。"
    },
    {
      "metadata": {},
      "cell_type": "markdown",
      "source": "| | | |\n|-|-|-|\n|x|2.8|2.9|3.0|3.1|3.2|3.2|3.2|3.3|3.4|\n|y|30 |26 |33|31|33|35|37|36|33|\n"
    },
    {
      "metadata": {
        "trusted": true
      },
      "cell_type": "code",
      "source": "import numpy as np\nimport pandas as pd\nimport matplotlib.pyplot as plt",
      "execution_count": 8,
      "outputs": []
    },
    {
      "metadata": {
        "trusted": true
      },
      "cell_type": "code",
      "source": "data = np.array([[2.8, 30],\n                 [2.9,26],\n                 [3.0,33],\n                 [3.1,31],\n                 [3.2,33],\n                 [3.2,35],\n                 [3.2,37],\n                 [3.3,36],\n                 [3.4,33]\n                ])\ndf = pd.DataFrame(data)\ndf.columns = ['x', 'y']\ndf.describe()",
      "execution_count": 2,
      "outputs": [
        {
          "output_type": "execute_result",
          "execution_count": 2,
          "data": {
            "text/html": "<div>\n<style scoped>\n    .dataframe tbody tr th:only-of-type {\n        vertical-align: middle;\n    }\n\n    .dataframe tbody tr th {\n        vertical-align: top;\n    }\n\n    .dataframe thead th {\n        text-align: right;\n    }\n</style>\n<table border=\"1\" class=\"dataframe\">\n  <thead>\n    <tr style=\"text-align: right;\">\n      <th></th>\n      <th>x</th>\n      <th>y</th>\n    </tr>\n  </thead>\n  <tbody>\n    <tr>\n      <th>count</th>\n      <td>9.000000</td>\n      <td>9.000000</td>\n    </tr>\n    <tr>\n      <th>mean</th>\n      <td>3.122222</td>\n      <td>32.666667</td>\n    </tr>\n    <tr>\n      <th>std</th>\n      <td>0.192209</td>\n      <td>3.354102</td>\n    </tr>\n    <tr>\n      <th>min</th>\n      <td>2.800000</td>\n      <td>26.000000</td>\n    </tr>\n    <tr>\n      <th>25%</th>\n      <td>3.000000</td>\n      <td>31.000000</td>\n    </tr>\n    <tr>\n      <th>50%</th>\n      <td>3.200000</td>\n      <td>33.000000</td>\n    </tr>\n    <tr>\n      <th>75%</th>\n      <td>3.200000</td>\n      <td>35.000000</td>\n    </tr>\n    <tr>\n      <th>max</th>\n      <td>3.400000</td>\n      <td>37.000000</td>\n    </tr>\n  </tbody>\n</table>\n</div>",
            "text/plain": "              x          y\ncount  9.000000   9.000000\nmean   3.122222  32.666667\nstd    0.192209   3.354102\nmin    2.800000  26.000000\n25%    3.000000  31.000000\n50%    3.200000  33.000000\n75%    3.200000  35.000000\nmax    3.400000  37.000000"
          },
          "metadata": {}
        }
      ]
    },
    {
      "metadata": {
        "trusted": true
      },
      "cell_type": "code",
      "source": "plt.scatter(data[:,0], data[:,1])\nplt.grid()",
      "execution_count": 3,
      "outputs": [
        {
          "output_type": "display_data",
          "data": {
            "image/png": "[encoded data removed]",
            "text/plain": "<Figure size 432x288 with 1 Axes>"
          },
          "metadata": {
            "needs_background": "light"
          }
        }
      ]
    },
    {
      "metadata": {
        "trusted": true
      },
      "cell_type": "code",
      "source": "#正規方程式の要素を求める\n#変数の初期化\nleft_11 = 0\nleft_12 = 0\nleft_21 = 0\nleft_22 = 0\nright_11 = 0\nright_21 = 0\n\n#左辺11要素\nfor i in data[:,0]:\n    left_11 += i ** 2\n#左辺12要素\nfor i in data[:,0]:\n    left_12 += i\n#左辺21要素\nfor i in data[:,0]:\n    left_21 += i\n#左辺22要素\nfor i in data[:,0]:\n    left_22 += 1\nprint(left_11)\nprint(left_12)\nprint(left_21)\nprint(left_22)\n\n#右辺11要素\nfor i, j in zip(data[:, 0], data[:,1]):\n    right_11 += i * j\n#右辺21要素\nfor i in data[:,1]:\n    right_21 += i\nprint(right_11)\nprint(right_21)",
      "execution_count": 4,
      "outputs": [
        {
          "output_type": "stream",
          "text": "88.03000000000002\n28.099999999999998\n28.099999999999998\n9\n921.5\n294.0\n",
          "name": "stdout"
        }
      ]
    },
    {
      "metadata": {
        "trusted": true
      },
      "cell_type": "code",
      "source": "from numpy.linalg import solve\nleft = [\n    [left_11, left_12],\n    [left_21, left_22]\n]\nright = [right_11, right_21]\nvalue = solve(left, right)\nprint(value)",
      "execution_count": 5,
      "outputs": [
        {
          "output_type": "stream",
          "text": "[12.06766917 -5.0112782 ]\n",
          "name": "stdout"
        }
      ]
    },
    {
      "metadata": {
        "trusted": true
      },
      "cell_type": "code",
      "source": "#回帰直線を描画\nplt.scatter(data[:,0],data[:,1])\nplt.grid()\nx = np.arange(2.7, 3.6, 0.1)\ny = value[0] * x + value[1]\nplt.plot(x, y)",
      "execution_count": 6,
      "outputs": [
        {
          "output_type": "execute_result",
          "execution_count": 6,
          "data": {
            "text/plain": "[<matplotlib.lines.Line2D at 0x7fd15b0bddd8>]"
          },
          "metadata": {}
        },
        {
          "output_type": "display_data",
          "data": {
            "image/png": "[encoded data removed]",
            "text/plain": "<Figure size 432x288 with 1 Axes>"
          },
          "metadata": {
            "needs_background": "light"
          }
        }
      ]
    },
    {
      "metadata": {
        "trusted": true
      },
      "cell_type": "code",
      "source": "r2 = 0 #決定係数\nrss = 0 #残差平方和\nsum = 0 #偏差平方和\n#RSS(残差平方和)を求める\nfor i, j in zip(data[:, 0], data[:,1]):\n    rss += (j - value[0] * i - value[1])**2\nprint(rss)\n\n#偏差平方和を求める\nfor i in data[:,1]:\n    sum += (i - np.mean(data[:,1]))**2\nprint(sum)\n\n#決定係数を求める\nr2 = 1 - rss / sum\nprint(r2)",
      "execution_count": 7,
      "outputs": [
        {
          "output_type": "stream",
          "text": "46.9586466165413\n90.00000000000001\n0.4782372598162078\n",
          "name": "stdout"
        }
      ]
    },
    {
      "metadata": {
        "trusted": true
      },
      "cell_type": "code",
      "source": "",
      "execution_count": null,
      "outputs": []
    }
  ],
  "metadata": {
    "kernelspec": {
      "name": "python36",
      "display_name": "Python 3.6",
      "language": "python"
    },
    "language_info": {
      "mimetype": "text/x-python",
      "nbconvert_exporter": "python",
      "name": "python",
      "pygments_lexer": "ipython3",
      "version": "3.6.6",
      "file_extension": ".py",
      "codemirror_mode": {
        "version": 3,
        "name": "ipython"
      }
    }
  },
  "nbformat": 4,
  "nbformat_minor": 2
}