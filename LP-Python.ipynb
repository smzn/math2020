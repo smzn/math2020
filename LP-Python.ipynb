{
  "cells": [
    {
      "metadata": {
        "trusted": true
      },
      "cell_type": "code",
      "source": "!pip install pulp",
      "execution_count": 1,
      "outputs": [
        {
          "output_type": "stream",
          "text": "\u001b[33mWARNING: Retrying (Retry(total=4, connect=None, read=None, redirect=None, status=None)) after connection broken by 'ConnectTimeoutError(<pip._vendor.urllib3.connection.VerifiedHTTPSConnection object at 0x7fab1870a7f0>, 'Connection to webproxy timed out. (connect timeout=15)')': /simple/pulp/\u001b[0m\n\u001b[33mWARNING: Retrying (Retry(total=3, connect=None, read=None, redirect=None, status=None)) after connection broken by 'ConnectTimeoutError(<pip._vendor.urllib3.connection.VerifiedHTTPSConnection object at 0x7fab1870a5c0>, 'Connection to webproxy timed out. (connect timeout=15)')': /simple/pulp/\u001b[0m\n\u001b[33mWARNING: Retrying (Retry(total=2, connect=None, read=None, redirect=None, status=None)) after connection broken by 'ConnectTimeoutError(<pip._vendor.urllib3.connection.VerifiedHTTPSConnection object at 0x7fab1870a438>, 'Connection to webproxy timed out. (connect timeout=15)')': /simple/pulp/\u001b[0m\n\u001b[33mWARNING: Retrying (Retry(total=1, connect=None, read=None, redirect=None, status=None)) after connection broken by 'ConnectTimeoutError(<pip._vendor.urllib3.connection.VerifiedHTTPSConnection object at 0x7fab1870a320>, 'Connection to webproxy timed out. (connect timeout=15)')': /simple/pulp/\u001b[0m\n\u001b[33mWARNING: Retrying (Retry(total=0, connect=None, read=None, redirect=None, status=None)) after connection broken by 'ConnectTimeoutError(<pip._vendor.urllib3.connection.VerifiedHTTPSConnection object at 0x7fab1870a1d0>, 'Connection to webproxy timed out. (connect timeout=15)')': /simple/pulp/\u001b[0m\n\u001b[31mERROR: Could not find a version that satisfies the requirement pulp (from versions: none)\u001b[0m\n\u001b[31mERROR: No matching distribution found for pulp\u001b[0m\n",
          "name": "stdout"
        }
      ]
    },
    {
      "metadata": {
        "trusted": true
      },
      "cell_type": "code",
      "source": "import pulp",
      "execution_count": 2,
      "outputs": []
    },
    {
      "metadata": {
        "trusted": true
      },
      "cell_type": "code",
      "source": "#基本情報技術者平成25年春期 午前問76 \n#問題を定義\nproblem = pulp.LpProblem('P', pulp.LpMaximize)\n\n#変数を定義(変数名, 最小値, 最大値, 整数制約)\nx = pulp.LpVariable('x', 0, None, pulp.LpInteger)\ny = pulp.LpVariable('y', 0, None, pulp.LpInteger)\n\n#目的関数を定義\nproblem += 5*x + 4*y\n\n#制約条件を定義\nproblem += 2*x + 4*y <= 16\nproblem += 3*x + 2*y <= 12\n\n#確認\nprint(problem)",
      "execution_count": 3,
      "outputs": [
        {
          "output_type": "stream",
          "text": "P:\nMAXIMIZE\n5*x + 4*y + 0\nSUBJECT TO\n_C1: 2 x + 4 y <= 16\n\n_C2: 3 x + 2 y <= 12\n\nVARIABLES\n0 <= x Integer\n0 <= y Integer\n\n",
          "name": "stdout"
        }
      ]
    },
    {
      "metadata": {
        "trusted": true
      },
      "cell_type": "code",
      "source": "#問題を解く\nstatus = problem.solve()\nprint(pulp.LpStatus[status])\nprint(pulp.value(problem.objective))\nprint(x.value())\nprint(y.value())",
      "execution_count": 4,
      "outputs": [
        {
          "output_type": "stream",
          "text": "Optimal\n22.0\n2.0\n3.0\n",
          "name": "stdout"
        }
      ]
    },
    {
      "metadata": {
        "trusted": true
      },
      "cell_type": "code",
      "source": "#基本情報技術者平成17年春期 午前問78\nproblem2 = pulp.LpProblem('P', pulp.LpMaximize)\n\n#変数を定義(変数名, 最小値, 最大値, 整数制約)\nx2 = pulp.LpVariable('x2', 0, None, pulp.LpInteger)\ny2 = pulp.LpVariable('y2', 0, None, pulp.LpInteger)\n\n#目的関数を定義\nproblem2 += 600*x2 + 400*y2\n\n#制約条件を定義\nproblem2 += 6*x2 + 3*y2 <= 360\nproblem2 += 2*x2 + 4*y2 <= 240\n\n#確認\nprint(problem2)",
      "execution_count": 8,
      "outputs": [
        {
          "output_type": "stream",
          "text": "P:\nMAXIMIZE\n600*x2 + 400*y2 + 0\nSUBJECT TO\n_C1: 6 x2 + 3 y2 <= 360\n\n_C2: 2 x2 + 4 y2 <= 240\n\nVARIABLES\n0 <= x2 Integer\n0 <= y2 Integer\n\n",
          "name": "stdout"
        }
      ]
    },
    {
      "metadata": {
        "trusted": true
      },
      "cell_type": "code",
      "source": "#問題を解く\nstatus2 = problem2.solve()\nprint(pulp.LpStatus[status2])\nprint(pulp.value(problem2.objective))\nprint(x2.value())\nprint(y2.value())",
      "execution_count": 9,
      "outputs": [
        {
          "output_type": "stream",
          "text": "Optimal\n40000.0\n40.0\n40.0\n",
          "name": "stdout"
        }
      ]
    },
    {
      "metadata": {
        "trusted": true
      },
      "cell_type": "code",
      "source": "#応用情報技術者平成30年秋期 午前問76\nproblem3 = pulp.LpProblem('P', pulp.LpMaximize)\n\n#変数を定義(変数名, 最小値, 最大値, 整数制約)\nx3 = pulp.LpVariable('x3', 0, None, pulp.LpInteger)\ny3 = pulp.LpVariable('y3', 0, None, pulp.LpInteger)\nz3 = pulp.LpVariable('z3', 0, None, pulp.LpInteger)\n\n#目的関数を定義\nproblem3 += 8*x3 + 5*y3 + 5*z3\n\n#制約条件を定義\nproblem3 += 2*x3 + 3*y3 + z3 <= 240\nproblem3 += 2*x3 + y3 + 2*z3 <= 150\n\n#確認\nprint(problem3)",
      "execution_count": 10,
      "outputs": [
        {
          "output_type": "stream",
          "text": "P:\nMAXIMIZE\n8*x3 + 5*y3 + 5*z3 + 0\nSUBJECT TO\n_C1: 2 x3 + 3 y3 + z3 <= 240\n\n_C2: 2 x3 + y3 + 2 z3 <= 150\n\nVARIABLES\n0 <= x3 Integer\n0 <= y3 Integer\n0 <= z3 Integer\n\n",
          "name": "stdout"
        }
      ]
    },
    {
      "metadata": {
        "trusted": true
      },
      "cell_type": "code",
      "source": "#問題を解く\nstatus3 = problem3.solve()\nprint(pulp.LpStatus[status3])\nprint(pulp.value(problem3.objective))\nprint(x3.value())\nprint(y3.value())",
      "execution_count": 11,
      "outputs": [
        {
          "output_type": "stream",
          "text": "Optimal\n644.0\n53.0\n44.0\n",
          "name": "stdout"
        }
      ]
    },
    {
      "metadata": {
        "trusted": true
      },
      "cell_type": "code",
      "source": "",
      "execution_count": null,
      "outputs": []
    }
  ],
  "metadata": {
    "kernelspec": {
      "name": "python36",
      "display_name": "Python 3.6",
      "language": "python"
    },
    "language_info": {
      "mimetype": "text/x-python",
      "nbconvert_exporter": "python",
      "name": "python",
      "pygments_lexer": "ipython3",
      "version": "3.6.6",
      "file_extension": ".py",
      "codemirror_mode": {
        "version": 3,
        "name": "ipython"
      }
    }
  },
  "nbformat": 4,
  "nbformat_minor": 2
}